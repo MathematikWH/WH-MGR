{
 "cells": [
  {
   "cell_type": "markdown",
   "metadata": {},
   "source": [
    "## Integralrechnung mit Python\n",
    "\n",
    "In diesem Notebook lernen Sie die Grundlagen der Integralrechnung und einige Methoden in Python kennen, um Integrale (numerisch) berechnen zu können.\n",
    "\n",
    "<b> Python Grundlagen: </b> Plots, NumPy, SymPy, SciPy<br>\n",
    "<b> Math. Grundlagen: </b>  Analysis, Folgen, Grenzwerte, Stetigkeit, Riemann-Integral <br>"
   ]
  },
  {
   "cell_type": "code",
   "execution_count": 1,
   "metadata": {},
   "outputs": [],
   "source": [
    "# Zum Berechnen von Funktionswerten und zum Plotten von Funktionsgraphen werden folgende Module benötigt\n",
    "import numpy as np\n",
    "import matplotlib.pyplot as plt\n",
    "import micropip\n",
    "await micropip.install(\"ipywidgets\")\n",
    "from IPython.display import display, Latex\n",
    "from ipywidgets import interactive, widgets\n",
    "from sympy import integrate, Symbol, sqrt, sin, cos, tan, E, pi, ln\n",
    "\n",
    "# Hilfsmodul zur korrekten Darstellung in Latex von SymPy Ausgaben\n",
    "from sympy.printing.latex import *"
   ]
  },
  {
   "cell_type": "markdown",
   "metadata": {},
   "source": [
    "### <b> Inhaltsverzeichnis:</b> <br>\n",
    "<ul>\n",
    "    <li><a href=\"#flaecheninhalt\">Der Flächeninhalt zwischen Funktionsgraph und x-Achse</a></li>\n",
    "    <li><a href=\"#techniken\">Integrationstechniken</a></li>\n",
    "</ul>"
   ]
  },
  {
   "cell_type": "markdown",
   "metadata": {},
   "source": [
    "### Der Flächeninhalt zwischen Funktionsgraph und $x$-Achse\n",
    "<a id=\"flaecheninhalt\"></a>\n",
    "\n",
    "\n",
    "Was ist ein Integral? Wofür braucht man die Integralrechnung und <i>wie</i> berechnet man grundlegend Integrale? Darum soll es in diesem Abschnitt gehen. \n",
    "\n",
    "Man möchte den Inhalt der Fläche $A$ bestimmen, die zwischen dem Graphen der Funktion $f$ mit $f(x) = x^2$ und der $x$-Achse über dem Intervall $[0,1]$ eingeschlossen wird. Diese kann man über Rechtecke annähern, wie in folgender Code-Zelle nach Ausführung dargestellt wird. Dazu wird das Intervall $[0,1]$ in $n$ äquidistante Teile zerlegt, d.h. alle Teile sind gleich breit. Dann werden Rechtecke unterhalb des Graphen gebildet, die mit der linken oberen Ecke auf dem Graphen von $f$ liegen, da für die Höhe das Minimum des Funktionswertes auf jedem Teilintervall gewählt wird. Es findet daher eine Annäherung von unten statt. Was stellen Sie für den Flächeninhalt zwischen Graph und $x$-Achse fest, wenn Sie den Wert für $n$ anhand des Reglers verändern?"
   ]
  },
  {
   "cell_type": "code",
   "execution_count": null,
   "metadata": {},
   "outputs": [],
   "source": [
    "# Sie müssen den Code dieser Zelle nicht nachvollziehen können!\n",
    "def flaeche(n):\n",
    "    plt.figure(figsize=(5, 5))\n",
    "\n",
    "    # Intervall äquidistant zerlegen\n",
    "    dx = (1 - 0) / n\n",
    "\n",
    "    # Funktion definieren\n",
    "    def f(x):\n",
    "        return x**2\n",
    "\n",
    "    # Untersumme der Rechtecke\n",
    "    term = \"\"\n",
    "\n",
    "    def summe(n):\n",
    "        sum = 0\n",
    "        for i in range(n):\n",
    "            sum += f(0 + dx * n) * dx\n",
    "            term += \"f(x_i)\"\n",
    "\n",
    "        return sum\n",
    "\n",
    "    # Graphen und Rechtecke plotten\n",
    "\n",
    "    x = np.arange(0, 1, 0.01)\n",
    "    ax = plt.subplot()\n",
    "    plt.plot(x, f(x), color=\"b\", linewidth=1)\n",
    "\n",
    "    # Stützstellen festlegen\n",
    "    xi = [0 + dx * (i + 1) for i in range(n)]\n",
    "\n",
    "    for x in xi:\n",
    "        rx = [x, x + dx, x + dx, x, x]\n",
    "        ry = [0, 0, f(x), f(x), 0]\n",
    "        plt.plot(rx, ry, color=\"r\", linewidth=1)\n",
    "\n",
    "    ax.set_aspect(\"equal\")\n",
    "    ax.axvline(x=0, color=\"k\", ls=\"-\")\n",
    "    ax.axhline(y=0, color=\"k\", ls=\"-\")\n",
    "\n",
    "    ax.text(\n",
    "        0.05,\n",
    "        0.9,\n",
    "        r\"$f(x) = x^2$\",\n",
    "        fontsize=14,\n",
    "    )\n",
    "\n",
    "    ax.text(\n",
    "        0.05,\n",
    "        0.7,\n",
    "        rf\"$n = {n}$\",\n",
    "        fontsize=14,\n",
    "    )\n",
    "\n",
    "    plt.xlim(0, 1)\n",
    "    plt.ylim(0, 1)\n",
    "    ax.set_aspect(\"equal\")\n",
    "\n",
    "    plt.show()\n",
    "\n",
    "\n",
    "interactive(\n",
    "    flaeche,\n",
    "    n=widgets.IntSlider(min=1, max=100, step=1, value=1),\n",
    ")"
   ]
  },
  {
   "cell_type": "markdown",
   "metadata": {},
   "source": [
    "Je größer $n$ wird, desto feiner wird die äquidistante Zerlegung des Intervalls $[0,1]$. Man spricht hier von einer sogenannten <i>Untersumme $U_n$</i>. Genauso gibt es eine Obersumme $O_n$, bei der die Rechteckhöhe dem Maximum von $f$ in jedem Teilintervall entspricht und so eine Annäherung von oben entsteht.\n",
    "\n",
    "Streben in dem Fall die Ober- und Untersumme gegen denselben Grenzwert, dann nennt man $f$ <i>Riemann-integrierbar</i> und diesen Wert das <i>(Riemann-)Integral von $f$</i> auf dem Intervall $[0,1]$ und man schreibt $$ \\lim_{n \\to \\infty } U_n = \\lim_{n \\to \\infty} O_n = \\int_0^1 f(x) \\; \\text{d}x $$"
   ]
  },
  {
   "cell_type": "markdown",
   "metadata": {},
   "source": [
    "<div style= \"color: black;background-color: powderblue ;margin: 10 px auto; padding: 10px; border-radius: 10px\">\n",
    "    <p style=\"font-size:12pt; text-align:center; color:   black; background-color: lightskyblue ;margin: 10 px auto; padding: 10px; border-radius: 10px\" id=\"1\"><b>Aufgabe 1</b>  </p> \n",
    "\n",
    "<b>Teilaufgabe 1.</b><br>\n",
    "Berechnen Sie die Untersumme $U_n$ für $n = 1, 5$ und $10$ zur Funktion $f$ mit $f(x) = x^2$ auf dem Intervall $[0,1]$.\n",
    "\n",
    "<hr>\n",
    "\n",
    "<b>Teilaufgabe 2.</b><br>\n",
    "Bestimmen Sie in Abhängigkeit von $n > 1$ eine Formel für die Untersumme $U_n$ aus Teilaufgabe 1. Überprüfen Sie Ihr Ergebnis in der STACK-Aufgabe \"Untersumme einer quadratischen Funktion bestimmen\".\n",
    "<hr>\n",
    "\n",
    "<b> Teilaufgabe 3.</b><br>\n",
    "Zeigen Sie von Hand, dass die Untersumme $U_n$ konvergiert. Nehmen Sie an, dass die Obersumme gegen denselben Wert konvergiert und bestimmen Sie anschließend $\\displaystyle \\int_0^1 f(x) \\; \\text{d}x$. Wie lautet der Flächeninhalt zwischen dem Graphen von $f$ und der $x$-Achse auf dem Intervall $[0,1]$ in Flächeneinheiten (FE) ? "
   ]
  },
  {
   "cell_type": "markdown",
   "metadata": {},
   "source": [
    "## Integrationstechniken\n",
    "<a id=\"techniken\"></a>\n",
    "\n",
    "Es ist mühselig, das Integral einer integrierbaren Funktion immerzu über die Ober- oder Untersumme zu bestimmen. Stattdessen sagt der <i>Hauptsatz der Differenzial- und Integralrechnung</i> aus, dass man zum Berechnen <i>Stammfunktionen</i> nutzen kann. Eine differenzierbare Funktion $F$ heißt dann <i>Stammfunktion</i> zu $f$, falls $F^\\prime = f$ auf dem gemeinsamen (offenen) Definitionsbereich von $f$ gilt. Man kann zeigen, dass bereits alle stetigen Funktionen $f$ integrierbar sind, weshalb Sie in diesem Notebook in der Regel eine Stammfunktion finden werden und als geschlossenen Ausdruck angeben können. Beachten Sie allerdings, dass dies nicht immer gelten muss! Sie werden dazu im nachfolgenden Abschnitte Beispiele finden.\n",
    "\n",
    "Hat man für $f$ eine Stammfunktion $F$ gefunden, dann gilt nach dem Hauptsatz der Differenzial- und Integralrechnung $$ \\int_a^b f(x) \\;\\text{d}x = \\left[F(x) \\right]_a^b = F(b) - F(a). $$\n",
    "\n",
    "So rechnet man nach, dass $$ \\int_0^1 x^2 +x\\; \\text{d}x = \\left[\\frac{1}{3}x^3 + \\frac{1}{2}x^2\\right]_0^1 = \\frac{1}{3} + \\frac{1}{2} - 0 = \\frac{5}{6}$$ gelten muss, denn $F(x) = \\frac{1}{3}x^3 + \\frac{1}{2}x^2$ ist eine Stammfunktion zu $f(x) = x^2 +x$. \n",
    "\n",
    "\n",
    "Zusätzlich hat das (Riemann-)Integral Eigenschaften, die es zu beachten gilt:\n",
    "\n",
    "1) $\\displaystyle \\int_a^b c\\cdot f(x) \\;\\text{d}x = c \\cdot \\int_a^b f(x) \\;\\text{d}x $\n",
    "\n",
    "2) $\\displaystyle \\int_a^b f(x) + g(x) \\;\\text{d}x = \\int_a^b f(x) \\;\\text{d}x + \\int_a^b g(x) \\;\\text{d}x $.\n",
    "\n",
    "Üben Sie einfache Integrale mit Hilfe der vorangestellten Eigenschaften in der nachfolgenden Übung. Überlegen Sie sich durch die umgekehrte Sichtweise, wie man eine Stammfunktion findet.\n",
    "\n",
    "<div style= \"color: black;background-color: powderblue ;margin: 10 px auto; padding: 10px; border-radius: 10px\">\n",
    "    <p style=\"font-size:12pt; text-align:center; color:   black; background-color: lightskyblue ;margin: 10 px auto; padding: 10px; border-radius: 10px\" id=\"1\"><b>Aufgabe 2</b>  </p> \n",
    "\n",
    "<b>Teilaufgabe 1:</b><br>\n",
    "Berechnen Sie die folgenden Integrale von Hand:\n",
    "\n",
    "(a) $ \\displaystyle \\int_0^1 x^2 -1\\; \\text{d}x $\n",
    "   \n",
    "(b) $ \\displaystyle \\int_0^\\pi \\cos(x) + \\sin(x)\\; \\text{d}x $\n",
    "   \n",
    "(c) $ \\displaystyle \\int_{-3}^{-1} \\frac{1}{x^3}\\; \\text{d}x $\n",
    "<hr>\n",
    "\n",
    "<b>Teilaufgabe 2. Stammfunktion eines Polynoms.</b><br>\n",
    "Implementieren Sie eine Funktion <code>stammfunktionPolynom()</code>, die ein beliebiges Polynom als Parameter entgegennimmt und eine Stammfunktion dazu bildet und zurückgibt. \n",
    "\n",
    "<b>Anforderungen:</b> Das Polynom wird durch eine Liste der zugehörigen Koeffizienten übergeben. Beispielsweise ist für $f$ mit $f(x) = x^2 = 1 \\cdot x^2 + 0 \\cdot x + 0$ der Parameter gegeben durch <code>[1, 0, 0]</code>. Ebenso soll eine Stammfunktion als Liste mit den zugehörigen Koeffizienten zurückgegeben werden. \n",
    "\n",
    "<b>Beispiel:</b> Es sollte <code>stammfunktionPolynom([1, 0, 0]) = [0.3333333333333333, 0, 0, 0]</code> ergeben.\n",
    "\n",
    "Ergänzen Sie dazu den Code an den entsprechenden Stellen."
   ]
  },
  {
   "cell_type": "code",
   "execution_count": 12,
   "metadata": {},
   "outputs": [
    {
     "data": {
      "text/plain": [
       "[0.3333333333333333, 0, 0, 0]"
      ]
     },
     "execution_count": 12,
     "metadata": {},
     "output_type": "execute_result"
    }
   ],
   "source": [
    "def stammfunktionPolynom(p):\n",
    "    stammfunktion = p + [0]\n",
    "\n",
    "    # Bis wohin muss i zählen?\n",
    "    for i in range(0, ...):\n",
    "        # Welche Bedingung sollte p[i] erfüllen?\n",
    "        if p[i] ... 0:\n",
    "\n",
    "            # Wie lautet der neue Wert für stammfunktion[i] ?\n",
    "            stammfunktion[i] = ...\n",
    "\n",
    "    return stammfunktion\n",
    "\n",
    "# Testen Sie die Funkion\n",
    "stammfunktionPolynom([1, 0, 0])"
   ]
  },
  {
   "cell_type": "markdown",
   "metadata": {},
   "source": [
    "> **Am Rande:** Mithilfe des Integrals können Flächeninhalte zwischen der $x$-Achse und Graphen von (integrierbaren) Funktionen ermittelt werden. Das Integral selbst ist abstrakt gesehen ein weitaus stärkeres Werkzeug, womit man viele weitere Phänomena berechnen kann. Ein Beispiel dazu sehen Sie in dem nachfolgendem Abschnitt. Ein weiteres Anwendungsszenario ist die Rekonstruktion aus Daten. So wie das Ableiten einer Funktion des Weges die momentane Geschwindigkeit ergibt, kann umgekehrt das Integrieren einer Geschwindigkeitsfunktion den zurückgelegten Weg ermitteln."
   ]
  },
  {
   "cell_type": "markdown",
   "metadata": {},
   "source": [
    "### Integrieren mit Python\n",
    "\n",
    "Mithilfe von Python kann man Stammfunktionen bestimmen lassen und ebenso endliche Integrale berechnen. Das Modul <code>SymPy</code> findet dafür Verwendung."
   ]
  },
  {
   "cell_type": "code",
   "execution_count": null,
   "metadata": {},
   "outputs": [],
   "source": [
    "# Festlegung der symbolischen Variable zum Integrieren\n",
    "x = Symbol(\"x\")\n",
    "\n",
    "# Integrationsbefehl von SymPy\n",
    "stammfunktion = integrate(x**2 + 1, x)\n",
    "\n",
    "display(Latex(rf\"$\\displaystyle \\int x^2 +1 \\; \\text{{d}}x = {latex(stammfunktion)}$\"))"
   ]
  },
  {
   "cell_type": "markdown",
   "metadata": {},
   "source": [
    "Um ein bestimmtes Integral zu berechnen, gibt man beim <code>integrate</code> Befehl die Grenzen mit an. Achten Sie auf die zusätzliche Klammerschreibweise."
   ]
  },
  {
   "cell_type": "code",
   "execution_count": null,
   "metadata": {},
   "outputs": [],
   "source": [
    "# Festlegung der symbolischen Variable zum Integrieren\n",
    "x = Symbol(\"x\")\n",
    "\n",
    "# Integrationsbefehl von SymPy über die Funktion f(x) = x + 1 mit Grenzen a = 0 und b = 1\n",
    "integral = integrate(x + 1, (x, 0, 1))\n",
    "\n",
    "# Ausgabe in der Konsole\n",
    "display(Latex(rf\"$ \\displaystyle \\int_0^1 x + 1 \\; \\text{{d}}x = {latex(integral)}$\"))"
   ]
  },
  {
   "cell_type": "markdown",
   "metadata": {},
   "source": [
    "<div style= \"color: black;background-color: powderblue ;margin: 10 px auto; padding: 10px; border-radius: 10px\">\n",
    "    <p style=\"font-size:12pt; text-align:center; color:   black; background-color: lightskyblue ;margin: 10 px auto; padding: 10px; border-radius: 10px\" id=\"1\"><b>Aufgabe 3</b>  </p> \n",
    "\n",
    "Überprüfen Sie Ihre Ergebnisse aus <b>Aufgabe 2 Teilaufgabe 1</b>, indem Sie mithilfe von <code>SymPy</code> jeweils eine Stammfunktion bilden und anschließend die Integrale berechnen lassen. Ergänzen Sie dazu die Code-Zelle an den entsprechenden Stellen.\n"
   ]
  },
  {
   "cell_type": "code",
   "execution_count": null,
   "metadata": {},
   "outputs": [],
   "source": [
    "# Festlegung der symbolischen Variable zum Integrieren\n",
    "x = Symbol(\"x\")\n",
    "\n",
    "# Funktion aus (a)\n",
    "stammfunktionf1 = integrate(x**2 - 1, (x, ..., ...))\n",
    "\n",
    "# Funktion aus (b)\n",
    "stammfunktionf2 = integrate(cos(x) + sin(x), ...)\n",
    "\n",
    "# Funktion aus (c)\n",
    "stammfunktionf3 = integrate(..., ...)\n",
    "\n",
    "# Ausgabe der Stammfunktionen aus (a), (b) und (c)\n",
    "display(\n",
    "    Latex(\n",
    "        rf\"$ \\displaystyle \\int_0^1 x^2 - 1 \\; \\text{{d}}x = {latex(stammfunktionf1)}$\"\n",
    "    )\n",
    ")\n",
    "display(\n",
    "    Latex(\n",
    "        rf\"$ \\displaystyle \\int_0^\\pi \\cos(x) + \\sin(x) \\; \\text{{d}}x = {latex(stammfunktionf2)}$\"\n",
    "    )\n",
    ")\n",
    "display(\n",
    "    Latex(\n",
    "        rf\"$ \\displaystyle \\int_{{-3}}^{{-1}} \\frac{{1}}{{x^3}} \\; \\text{{d}}x = {latex(stammfunktionf3)}$\"\n",
    "    )\n",
    ")"
   ]
  },
  {
   "cell_type": "markdown",
   "metadata": {},
   "source": [
    "Jedoch ist es nicht immer möglich, für stetige Funktionen einen geschlossenen Ausdruck einer Stammfunktion zu finden. Betrachten Sie dazu folgendes Beispiel:\n",
    "\n",
    "Es sei $f : [a,b] \\longrightarrow \\mathbb{R} $ eine stetig-differenzierbare Funktion, d.h. $f$ ist differenzierbar auf $(a,b)$ und die Ableitung $f'$ ist selbst wieder stetig. Dann lässt sich mit der Formel $$ L(f) = \\int_{a}^{b} \\sqrt{1 + f'(x)^2} \\;\\text{d}x $$ die Länge des Graphen zwischen den Punkten $(a, f(a))$ und $(b, f(b))$ bestimmen. Möchte man beispielsweise die Länge der Sinuskurve vom Startpunkt $(0,0)$ bis hin zum Punkt $(0, \\pi)$ berechnen, so muss man das Integral $$ L(f) = \\int_{0}^{\\pi} \\sqrt{1 + \\cos^2(x)} \\;\\text{d}x $$ lösen. Da die Cosinusfunktion stetig ist, existiert dieses Integral, der Integrand besitzt jedoch keine Stammfunktion, die durch elementare Funktionen ausgedrückt werden kann. In dem Fall muss man solche Integrale numerisch lösen. Betrachten Sie dazu nachfolgende Code-Zelle und beobachten Sie, was passiert, wenn <code>SymPy</code> nach Ausführung eine Stammfunktion bestimmen soll."
   ]
  },
  {
   "cell_type": "code",
   "execution_count": 21,
   "metadata": {},
   "outputs": [
    {
     "data": {
      "text/latex": [
       "$\\displaystyle \\int \\sqrt{\\cos^{2}{\\left(x \\right)} + 1}\\, dx$"
      ],
      "text/plain": [
       "Integral(sqrt(cos(x)**2 + 1), x)"
      ]
     },
     "execution_count": 21,
     "metadata": {},
     "output_type": "execute_result"
    }
   ],
   "source": [
    "# Festlegung der symbolischen Variable\n",
    "x = Symbol(\"x\")\n",
    "\n",
    "# Integrationsbefehl von SymPy\n",
    "integrate(sqrt(1 + cos(x) ** 2), x)"
   ]
  },
  {
   "cell_type": "markdown",
   "metadata": {},
   "source": [
    "Nach erfolgreicher Ausführung der Code-Zelle gibt das Modul <code>SymPy</code> lediglich das Integral selbst als Stammfunktion an, was korrekt bleibt, aber nicht die Frage der eigentlichen Berechnung löst. Daher muss dieses Integral offenbar numerisch gelöst werden, was in Python mit dem Modul <code>SciPy</code> gelingt."
   ]
  },
  {
   "cell_type": "code",
   "execution_count": 22,
   "metadata": {},
   "outputs": [
    {
     "data": {
      "text/plain": [
       "(3.8201977890277115, 1.3015768476030976e-13)"
      ]
     },
     "execution_count": 22,
     "metadata": {},
     "output_type": "execute_result"
    }
   ],
   "source": [
    "# Import der benötigten Funktion aus SciPy\n",
    "from scipy.integrate import quad\n",
    "\n",
    "# Hier wird der Integrand mit der Integrationsvariablen festgelegt\n",
    "f = lambda x: sqrt(1 + cos(x) ** 2)\n",
    "\n",
    "# Integrationsbefehl von SciPy\n",
    "quad(f, 0, pi)"
   ]
  },
  {
   "cell_type": "markdown",
   "metadata": {},
   "source": [
    "Die erste Komponente gibt dabei das numerische Ergebnis des Integrals an, die zweite Komponente den geschätzen Fehlerwert zum exakten Ergebnis. In dem Beispiel ist also die Länge der Sinuskurve vom Ursprung bis zum Punkt $(\\pi,0)$ etwa $$\\int_0^\\pi \\sqrt{1+\\cos^2(x)} \\; \\text{d} x \\approx 3.820198$$ Längeneinheiten lang, wobei der geschätze Fehlerwert zur exakten Länge bei ca. $1{,}30158 \\cdot 10^{-13}$ liegt.\n",
    "\n",
    "<div style= \"color: black;background-color: powderblue ;margin: 10 px auto; padding: 10px; border-radius: 10px\">\n",
    "    <p style=\"font-size:12pt; text-align:center; color:   black; background-color: lightskyblue ;margin: 10 px auto; padding: 10px; border-radius: 10px\" id=\"1\"><b>Aufgabe 4</b>  </p> \n",
    "\n",
    "Berechnen Sie die folgenden Integrale mithilfe von Python und überprüfen Sie Ihre Ergebnisse in der STACK-Aufgabe \"Bestimmte Integrale berechnen (2)\".\n",
    "\n",
    "(a) $ \\displaystyle \\int_0^\\pi \\frac{\\sin(x)}{x} \\; \\text{d} x$\n",
    "\n",
    "(b) $ \\displaystyle \\int_1^2 e^{-x^2} \\; \\text{d} x$\n",
    "\n",
    "(c) $ \\displaystyle \\int_e^{5e} \\sin \\left(\\sqrt{1+ \\ln^2(x)} \\right) \\; \\text{d} x$"
   ]
  },
  {
   "cell_type": "code",
   "execution_count": null,
   "metadata": {},
   "outputs": [],
   "source": [
    "from scipy.integrate import quad\n",
    "\n",
    "# Integral aus (a)\n",
    "f1 = lambda x: ...\n",
    "result1 = quad(f1, ..., ...)\n",
    "\n",
    "# Integral aus (b)\n",
    "f2 = ...\n",
    "result2 = quad(..., ..., ...)\n",
    "\n",
    "# Integral aus (c)\n",
    "f3 = ...\n",
    "result3 = ...\n",
    "\n",
    "# Ausgabe der numerischen Ergebnisse\n",
    "display(\n",
    "    Latex(\n",
    "        rf\"$ \\displaystyle \\int_0^\\pi \\frac{{\\sin(x)}}{{x}} \\; \\text{{d}} x = {result1[0]}$\"\n",
    "    )\n",
    ")\n",
    "display(Latex(rf\"$ \\displaystyle \\int_1^2 e^{{-x^2}} \\; \\text{{d}} x = {result2[0]}$\"))\n",
    "\n",
    "display(\n",
    "    Latex(\n",
    "        rf\"$ \\displaystyle \\int_e^{{5e}} \\sin \\left(\\sqrt{{1+ \\ln^2(x) }} \\right) \\; \\text{{d}} x = {result3[0]}$\"\n",
    "    )\n",
    ")"
   ]
  },
  {
   "cell_type": "markdown",
   "metadata": {},
   "source": [
    "### Uneigentliche Integrale\n",
    "\n",
    "Von besonderem Interesse sind <i>uneigentliche Integrale</i>, bei denen Funktionen über Intervalle wie $[0, \\infty)$ oder $(0,1]$ integriert werden müssen. Die Frage stellt sich dabei, ob solchen Integralen überhaupt ein Wert zugeschrieben werden kann. Führen Sie nachfolgende Code-Zelle aus und beobachten Sie beim verkleinern der unteren Grenze des Integrals, wie sich der Flächeninhalt verhält."
   ]
  },
  {
   "cell_type": "code",
   "execution_count": null,
   "metadata": {},
   "outputs": [],
   "source": [
    "def uneigentlichesIntegral(a):\n",
    "    plt.figure(figsize=(5, 10))\n",
    "\n",
    "    # Graphen plotten\n",
    "    x = np.arange(0.01, 5, 0.01)\n",
    "\n",
    "    def f(x):\n",
    "        return 1 / x\n",
    "\n",
    "    y = f(x)\n",
    "    x_ = np.arange(a + 0.01, 5, 0.01)\n",
    "\n",
    "    ax = plt.subplot()\n",
    "    plt.plot(x, y, color=\"b\", linewidth=1)\n",
    "    ax.fill_between(x_, 0, f(x_), alpha=0.5)\n",
    "\n",
    "    ax.set_aspect(\"equal\")\n",
    "    ax.axvline(x=0, color=\"k\", ls=\"-\")\n",
    "    ax.axvline(x=a, color=\"k\", ls=\"--\", linewidth=1)\n",
    "\n",
    "    ax.axhline(y=0, color=\"k\", ls=\"-\")\n",
    "\n",
    "    plt.xlim(0, 5)\n",
    "    plt.ylim(0, 5)\n",
    "    ax.text(\n",
    "        a + 0.2,\n",
    "        4,\n",
    "        rf\"$\\int_{{{a}}}^5 1/x \\; \\text{{d}}x$\",\n",
    "        fontsize=14,\n",
    "    )\n",
    "    # symbolische Integration\n",
    "    x = Symbol(\"x\")\n",
    "    flaeche = integrate(1 / x, (x, a, 5))\n",
    "\n",
    "    print(\n",
    "        rf\"Die Fläche unterhalb des Funktionsgraphen zu 1/x von a = {a} bis 5 ist gleich {flaeche}\"\n",
    "    )\n",
    "\n",
    "    plt.show()\n",
    "    ax.set_aspect(\"equal\")\n",
    "\n",
    "\n",
    "interactive(\n",
    "    uneigentlichesIntegral,\n",
    "    a=widgets.FloatSlider(min=0, max=1, step=0.01, value=1),\n",
    ")"
   ]
  },
  {
   "cell_type": "markdown",
   "metadata": {},
   "source": [
    "Für die Funktion $f$ mit $f(x) = \\frac{1}{x}$ auf dem Intervall $(0,\\infty)$ gibt es keinen endlichen Flächeninhalt auf dem Intervall $[a, 5]$, wenn sich die untere Grenze $a$ der $0$ annähert. Das kann man auch analytisch nachweisen, indem man solche uneigentlichen Integrale über einen Grenzwertprozess berechnet. Man definiert $$ \\int_0^5 \\frac{1}{x} \\; \\text{d}x = \\lim_{a \\to 0^+} \\; \\int_a^5 \\frac{1}{x} \\; \\text{d}x = \\lim_{a \\to 0^+} \\; [\\ln(x)]_a^5 = \\lim_{a \\to 0^+} \\ln(5) - \\ln(a) = \\infty.$$\n",
    "\n",
    "Dagegen erhält man einen endlichen Wert, wenn wir den Integranden etwas abändern! Für $f$ mit $f(x) = \\frac{1}{\\sqrt{x}}$ gilt auf demselben Intervall $$ \\int_0^5 \\frac{1}{\\sqrt{x}} \\; \\text{d}x = \\lim_{a \\to 0^+} \\; \\int_a^5 \\frac{1}{\\sqrt{x}} \\; \\text{d}x = \\lim_{a \\to 0^+} \\; \\left[2\\sqrt{x}\\right]_a^5 = \\lim_{a \\to 0^+} 2\\sqrt{5} - 2\\sqrt{a} = 2\\sqrt{5} < \\infty .$$\n",
    "\n",
    "Probieren Sie den Regler für nachfolgende Code-Zelle nach Ausführung aus!"
   ]
  },
  {
   "cell_type": "code",
   "execution_count": null,
   "metadata": {},
   "outputs": [],
   "source": [
    "def uneigentlichesIntegral(a):\n",
    "    plt.figure(figsize=(5, 10))\n",
    "\n",
    "    # Graphen plotten\n",
    "    x = np.arange(0.01, 5, 0.01)\n",
    "\n",
    "    def f(x):\n",
    "        return 1 / (x ** (1 / 2))\n",
    "\n",
    "    y = f(x)\n",
    "    x_ = np.arange(a + 0.01, 5, 0.01)\n",
    "\n",
    "    ax = plt.subplot()\n",
    "    plt.plot(x, y, color=\"b\", linewidth=1)\n",
    "    ax.fill_between(x_, 0, f(x_), alpha=0.5)\n",
    "\n",
    "    ax.set_aspect(\"equal\")\n",
    "    ax.axvline(x=0, color=\"k\", ls=\"-\")\n",
    "    ax.axhline(y=0, color=\"k\", ls=\"-\")\n",
    "\n",
    "    plt.xlim(0, 5)\n",
    "    plt.ylim(0, 5)\n",
    "    ax.text(\n",
    "        a + 0.2,\n",
    "        4,\n",
    "        rf\"$\\int_{{{a}}}^5 \\; \\frac{{1}}{{\\sqrt{{x}}}} \\; \\text{{d}}x$\",\n",
    "        fontsize=14,\n",
    "    )\n",
    "\n",
    "    # symbolische Integration\n",
    "    x = Symbol(\"x\")\n",
    "    flaeche = integrate(1 / (x ** (1 / 2)), (x, a, 5))\n",
    "\n",
    "    print(\n",
    "        rf\"Die Fläche unterhalb des Funktionsgraphen zu 1/sqrt(x) von a = {a} bis 5 ist gleich {flaeche}\"\n",
    "    )\n",
    "\n",
    "    plt.show()\n",
    "    ax.set_aspect(\"equal\")\n",
    "\n",
    "\n",
    "interactive(\n",
    "    uneigentlichesIntegral,\n",
    "    a=widgets.FloatSlider(min=0, max=1, step=0.01, value=1),\n",
    ")"
   ]
  },
  {
   "cell_type": "markdown",
   "metadata": {},
   "source": [
    "Bearbeiten Sie zum Abschluss die Aufgabe 5."
   ]
  },
  {
   "cell_type": "markdown",
   "metadata": {},
   "source": [
    "<div style= \"color: black;background-color: powderblue ;margin: 10 px auto; padding: 10px; border-radius: 10px\">\n",
    "    <p style=\"font-size:12pt; text-align:center; color:   black; background-color: lightskyblue ;margin: 10 px auto; padding: 10px; border-radius: 10px\" id=\"1\"><b>Aufgabe 5</b>  </p> \n",
    "\n",
    "Bearbeiten Sie die STACK-Aufgaben \"Uneigentliches Integral (1)\" und \"Uneigentliches Integral (2)\"."
   ]
  }
 ],
 "metadata": {
  "kernelspec": {
   "display_name": "base",
   "language": "python",
   "name": "python3"
  },
  "language_info": {
   "codemirror_mode": {
    "name": "ipython",
    "version": 3
   },
   "file_extension": ".py",
   "mimetype": "text/x-python",
   "name": "python",
   "nbconvert_exporter": "python",
   "pygments_lexer": "ipython3",
   "version": "3.11.7"
  }
 },
 "nbformat": 4,
 "nbformat_minor": 2
}
