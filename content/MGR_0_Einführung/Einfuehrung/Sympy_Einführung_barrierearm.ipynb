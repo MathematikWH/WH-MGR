{
 "cells": [
  {
   "attachments": {},
   "cell_type": "markdown",
   "metadata": {},
   "source": [
    "# Einführung in <span lang=\"en\">Sympy</span>"
   ]
  },
  {
   "attachments": {},
   "cell_type": "markdown",
   "metadata": {},
   "source": [
    "<span lang=\"en\">SymPy</span> ist eine Bibliothek für symbolische Mathematik in  <span lang=\"en\">Python</span>. Es ist ein  <span lang=\"en\">Open-Source</span>-Projekt, das eine breite Palette an Werkzeugen und Funktionen für verschiedene Arten von mathematischen Operationen bietet. Hier ist eine kurze Einführung:\n",
    "\n",
    "### Was ist <span lang=\"en\">SymPy</span>?\n",
    "\n",
    "- **Symbolische Mathematikbibliothek:** Im Gegensatz zu numerischen Bibliotheken, die mit spezifischen Zahlen arbeiten, ermöglicht <span lang=\"en\">SymPy</span> die Arbeit mit mathematischen Symbolen. Das bedeutet, dass Sie mit <span lang=\"en\">SymPy</span> algebraische Ausdrücke genau wie mit Symbolen auf Papier manipulieren können.\n",
    "\n",
    "- **In  <span lang=\"en\">Python</span> geschrieben:** <span lang=\"en\">SymPy</span> ist vollständig in  <span lang=\"en\">Python</span> geschrieben, was es leicht integrierbar in  <span lang=\"en\">Python</span>-Anwendungen macht und die Verwendung der  <span lang=\"en\">Python</span>-Syntax erlaubt.\n",
    "\n",
    "### Wofür wird <span lang=\"en\">SymPy</span> verwendet?\n",
    "\n",
    "1. **Algebraische Operationen:** <span lang=\"en\">SymPy</span> kann zur Vereinfachung, Umformung und Lösung algebraischer Ausdrücke und Gleichungen verwendet werden.\n",
    "\n",
    "2. **Differenzierung und Integration:** Es bietet Funktionen zur Durchführung von Differenzial- und Integralrechnungen, einschließlich partieller Ableitungen und bestimmter/unbestimmter Integrale.\n",
    "\n",
    "3. **Grenzwertberechnung und Reihenentwicklung:** Mit <span lang=\"en\">SymPy</span> können Sie Grenzwerte berechnen und Funktionen in Reihen wie Taylor- oder Fourier-Reihen entwickeln.\n",
    "\n",
    "4. **Lineare Algebra:** Es unterstützt Operationen der linearen Algebra, einschließlich der Berechnung von Determinanten, Inversen, Eigenwerten und Eigenvektoren.\n",
    "\n",
    "5. **Weitere Anwendungen:** Dazu gehören symbolische Summation, Faktorisierung, Erweiterung von Ausdrücken, Umwandlung von Ausdrücken in verschiedene Formen und vieles mehr.\n",
    "\n",
    "<b>Inhaltsverzeichnis:</b> <br>\n",
    "<ul>\n",
    " <li><a href=\"#funktion\">Kapitel 1: Funktionen</a></li>\n",
    " <li><a href=\"#funktiongrenzwert\">Kapitel 2: Grenzwerte von Funktionen</a></li>\n",
    " <li><a href=\"#folgen\">Kapitel 3: Folgen und Reihen</a></li>\n",
    " <li><a href=\"#taylor\">Kapitel 4: Taylor-Reihe</a></li>\n",
    " <li><a href=\"#eigen\">Kapitel 5: Eigenwerte und Eigenvektoren</a></li>\n",
    "</ul>"
   ]
  },
  {
   "attachments": {},
   "cell_type": "markdown",
   "metadata": {},
   "source": [
    "## Kapitel 1: Definition mathematischer Funktionen mit <span lang=\"en\">SymPy</span> <a id=\"funktion\"></a>"
   ]
  },
  {
   "attachments": {},
   "cell_type": "markdown",
   "metadata": {},
   "source": [
    "In <span lang=\"en\">SymPy</span> können mathematische Funktionen auf verschiedene Arten definiert und manipuliert werden. Hier ist eine Einführung in die Definition von Funktionen und die Durchführung grundlegender Operationen wie Differenzierung und Integration.\n",
    "\n",
    "In <span lang=\"en\">SymPy</span> werden Funktionen typischerweise durch die Verwendung von Symbolen definiert. Hier ist ein einfaches Beispiel:\n"
   ]
  },
  {
   "attachments": {},
   "cell_type": "markdown",
   "metadata": {},
   "source": [
    "Importieren von <span lang=\"en\">SymPy</span>: Zuerst müssen Sie <span lang=\"en\">SymPy</span> importieren."
   ]
  },
  {
   "cell_type": "code",
   "execution_count": null,
   "metadata": {},
   "outputs": [],
   "source": [
    "from sympy import symbols, Function"
   ]
  },
  {
   "attachments": {},
   "cell_type": "markdown",
   "metadata": {},
   "source": [
    "Definition von Symbolen: Dann definieren Sie ein oder mehrere Symbole, die in Ihrer Funktion verwendet werden."
   ]
  },
  {
   "cell_type": "code",
   "execution_count": null,
   "metadata": {},
   "outputs": [],
   "source": [
    "x = symbols('x')"
   ]
  },
  {
   "attachments": {},
   "cell_type": "markdown",
   "metadata": {},
   "source": [
    "Erstellen einer Funktion: Anschließend können Sie eine Funktion mit diesen Symbolen definieren."
   ]
  },
  {
   "cell_type": "code",
   "execution_count": null,
   "metadata": {},
   "outputs": [],
   "source": [
    "f = x**2 + 3*x + 5  # Beispiel für ein Polynom"
   ]
  },
  {
   "attachments": {},
   "cell_type": "markdown",
   "metadata": {},
   "source": [
    "Verwenden Sie `subs` zum Einsetzen von Werten in Funktionen, z.B. `f.subs(x, a)`"
   ]
  },
  {
   "cell_type": "code",
   "execution_count": null,
   "metadata": {},
   "outputs": [],
   "source": [
    "f.subs(x, 1)"
   ]
  },
  {
   "attachments": {},
   "cell_type": "markdown",
   "metadata": {},
   "source": [
    "### Beispiele für grundlegende Operationen"
   ]
  },
  {
   "attachments": {},
   "cell_type": "markdown",
   "metadata": {},
   "source": [
    "#### Differenzierung\n",
    "\n",
    "Um die Ableitung einer Funktion zu berechnen, verwenden Sie die `diff`-Funktion."
   ]
  },
  {
   "cell_type": "code",
   "execution_count": 2,
   "metadata": {},
   "outputs": [],
   "source": [
    "from sympy import diff\n",
    "df = diff(f, x)  # Berechnet die erste Ableitung von f bezüglich x"
   ]
  },
  {
   "attachments": {},
   "cell_type": "markdown",
   "metadata": {},
   "source": [
    "Wenn Sie die n-te Ableitung berechnen wollen, können Sie den zweiten Parameter verwenden."
   ]
  },
  {
   "cell_type": "code",
   "execution_count": null,
   "metadata": {},
   "outputs": [],
   "source": [
    "n = 2\n",
    "df2 = diff(f, x, n)  # Berechnet die n-te Ableitung von f bezüglich x"
   ]
  },
  {
   "attachments": {},
   "cell_type": "markdown",
   "metadata": {},
   "source": [
    "\n",
    "\n",
    "#### Integration\n",
    "\n",
    "Zur Integration einer Funktion nutzen Sie die  <span lang=\"en\">`integrate`</span>-Funktion. Sie können sowohl bestimmte als auch unbestimmte Integrale berechnen.\n",
    "\n",
    "\n"
   ]
  },
  {
   "cell_type": "code",
   "execution_count": null,
   "metadata": {},
   "outputs": [],
   "source": [
    "from sympy import integrate\n",
    "int_f = integrate(f, x)  # Unbestimmtes Integral\n",
    "int_f_def = integrate(f, (x, 0, 1))  # Bestimmtes Integral von 0 bis 1"
   ]
  },
  {
   "attachments": {},
   "cell_type": "markdown",
   "metadata": {},
   "source": [
    "#### Beispiel\n",
    "\n",
    "Hier ist ein vollständiges Beispiel, das zeigt, wie eine Funktion definiert und dann differenziert und integriert wird:"
   ]
  },
  {
   "cell_type": "code",
   "execution_count": null,
   "metadata": {},
   "outputs": [],
   "source": [
    "from sympy import symbols, diff, integrate\n",
    "\n",
    "# Symbole definieren\n",
    "x = symbols('x')\n",
    "\n",
    "# Funktion definieren\n",
    "f = x**2 + 3*x + 5\n",
    "\n",
    "# Differenzieren\n",
    "df = diff(f, x)\n",
    "\n",
    "# Integrieren\n",
    "int_f = integrate(f, x)\n",
    "int_f_def = integrate(f, (x, 0, 1))\n",
    "\n",
    "# Ergebnisse ausgeben\n",
    "print(\"Funktion: \", f)\n",
    "print(\"Ableitung: \", df)\n",
    "print(\"Unbestimmtes Integral: \", int_f)\n",
    "print(\"Bestimmtes Integral von 0 bis 1: \", int_f_def)\n"
   ]
  },
  {
   "attachments": {},
   "cell_type": "markdown",
   "metadata": {},
   "source": [
    "Durch die Ausführung dieses Codes erhalten Sie die Ableitung und die Integrale der Funktion $ f(x) = x^2 + 3x + 5 $. Diese Beispiele zeigen die Grundlagen der Arbeit mit Funktionen in <span lang=\"en\">SymPy</span> und können als Ausgangspunkt für komplexere Operationen dienen."
   ]
  },
  {
   "attachments": {},
   "cell_type": "markdown",
   "metadata": {},
   "source": [
    "## Kapitel 2: Grenzwerte in <span lang=\"en\">SymPy</span> für Funktionen <a id=\"funktiongrenzwert\"></a>"
   ]
  },
  {
   "attachments": {},
   "cell_type": "markdown",
   "metadata": {},
   "source": [
    "In <span lang=\"en\">SymPy</span> ist die Berechnung von Grenzwerten eine wichtige Funktionalität, die es ermöglicht, das Verhalten von Funktionen und Reihen an bestimmten Punkten oder bei Annäherung an Unendlich zu untersuchen. Hier ist eine Einführung in die Berechnung von Grenzwerten und einige Beispiele.\n",
    "\n",
    "\n",
    "#### Berechnung von Grenzwerten\n",
    "\n",
    "In <span lang=\"en\">SymPy</span> verwenden Sie die Funktion <span lang=\"en\">`limit`</span> aus dem Modul <span lang=\"en\">`sympy`</span> zur Berechnung von Grenzwerten. Die grundlegende Syntax lautet:\n",
    "\n",
    "```python\n",
    "from sympy import limit, symbols\n",
    "\n",
    "x = symbols('x')\n",
    "ausdruck = ...  # Ihr Ausdruck oder Funktion\n",
    "punkt = ...  # Der Punkt, an dem der Grenzwert berechnet werden soll\n",
    "richtung = '+'  # oder '-' für die Annäherung von rechts oder links\n",
    "\n",
    "grenzwert = limit(ausdruck, x, punkt, richtung)\n",
    "```\n",
    "\n",
    "\n",
    "\n",
    "#### Grenzwert einer Funktion an einem Punkt\n",
    "   \n",
    "Nehmen wir an, Sie möchten den Grenzwert der Funktion $ f(x) = \\frac{1}{x} $ für $ x $ gegen 0 berechnen."
   ]
  },
  {
   "cell_type": "code",
   "execution_count": null,
   "metadata": {},
   "outputs": [],
   "source": [
    "from sympy import limit, symbols, oo\n",
    "\n",
    "x = symbols('x')\n",
    "f = 1/x\n",
    "\n",
    "# Grenzwert von f(x) für x gegen 0 von rechts\n",
    "lim_rechts = limit(f, x, 0, '+')\n",
    "\n",
    "# Grenzwert von f(x) für x gegen 0 von links\n",
    "lim_links = limit(f, x, 0, '-')\n",
    "\n",
    "print(\"Grenzwert von 1/x für x gegen 0 von rechts: \", lim_rechts)\n",
    "print(\"Grenzwert von 1/x für x gegen 0 von links: \", lim_links)"
   ]
  },
  {
   "attachments": {},
   "cell_type": "markdown",
   "metadata": {},
   "source": [
    "## Kapitel 3: Folgen und Reihen in SymPy <a id=\"folgen\"></a>\n"
   ]
  },
  {
   "attachments": {},
   "cell_type": "markdown",
   "metadata": {},
   "source": [
    "In <span lang=\"en\">SymPy</span> können Folgen definiert und analysiert werden, und es bietet auch Werkzeuge zur Berechnung von Reihen, einschließlich unendlicher Reihen.\n",
    "\n",
    "#### Definition von Folgen\n",
    "\n",
    "Eine Folge ist eine geordnete Liste von Elementen, die nach einem bestimmten Muster oder einer Regel erstellt wird. In <span lang=\"en\">SymPy</span> können Sie Folgen durch Angabe einer allgemeinen Formel und eines Bereichs definieren.\n",
    "\n",
    "Beispiel für die Erstellung einer arithmetischen Folge:"
   ]
  },
  {
   "cell_type": "code",
   "execution_count": null,
   "metadata": {},
   "outputs": [],
   "source": [
    "from sympy import symbols, Seq, SeqFormula\n",
    "\n",
    "# Symbol definieren\n",
    "n = symbols('n')\n",
    "\n",
    "# Arithmetische Folge definieren\n",
    "a_n = SeqFormula(n**2, (n, 1, 10))"
   ]
  },
  {
   "attachments": {},
   "cell_type": "markdown",
   "metadata": {},
   "source": [
    "Hier wird eine Folge $ a_n $ mit der allgemeinen Formel $ n^2 $ erstellt, wobei $ n$ von 1 bis 10 läuft.\n",
    "\n",
    "Zudem bietet es auch Funktionen zur Berechnung von Grenzwerten. Die Funktion <span lang=\"en\"><code>limit_seq()</code></span> in <span lang=\"en\">SymPy</span> kann verwendet werden, um den Grenzwert einer Folge zu berechnen. \n",
    "\n",
    "Hier ist ein Beispiel, wie man den Grenzwert einer Folge mit <span lang=\"en\">SymPy</span> berechnen kann:"
   ]
  },
  {
   "cell_type": "code",
   "execution_count": null,
   "metadata": {},
   "outputs": [],
   "source": [
    "import sympy as sp\n",
    "\n",
    "# Symbolische Variable definieren\n",
    "n = sp.Symbol('n')\n",
    "\n",
    "# Folge definieren\n",
    "a_n = (5*n**3 + 3*n**2 + 4) / (3*n**3 + 4*n - 5)\n",
    "\n",
    "# Grenzwert berechnen\n",
    "limit_value = sp.limit_seq(a_n,n)\n",
    "\n",
    "limit_value"
   ]
  },
  {
   "attachments": {},
   "cell_type": "markdown",
   "metadata": {},
   "source": [
    "#### Reihen\n",
    "\n",
    "Eine Reihe ist die Summe der Elemente einer Folge. In <span lang=\"en\">SymPy</span> können Sie unendliche oder endliche Reihen berechnen.\n",
    "\n",
    "Beispiel für die Berechnung einer endlichen Reihe:"
   ]
  },
  {
   "cell_type": "code",
   "execution_count": null,
   "metadata": {},
   "outputs": [],
   "source": [
    "from sympy import summation\n",
    "\n",
    "# Endliche Reihe berechnen\n",
    "sum_reihe = summation(n**2, (n, 1, 10))"
   ]
  },
  {
   "attachments": {},
   "cell_type": "markdown",
   "metadata": {},
   "source": [
    "Hier wird die Summe der ersten 10 Terme der Reihe $ n^2 $ berechnet.\n",
    "\n",
    "#### Unendliche Reihen\n",
    "\n",
    "<span lang=\"en\">SymPy</span> kann auch mit unendlichen Reihen umgehen, sowohl zur Berechnung ihres Grenzwerts als auch zur Bestimmung ihrer Konvergenz.\n",
    "\n",
    "Beispiel für eine unendliche Reihe:"
   ]
  },
  {
   "cell_type": "code",
   "execution_count": null,
   "metadata": {},
   "outputs": [],
   "source": [
    "from sympy import Sum\n",
    "\n",
    "# Unendliche Reihe definieren\n",
    "unendliche_reihe = Sum(1/n**2, (n, 1, oo))\n",
    "\n",
    "# Grenzwert der unendlichen Reihe berechnen\n",
    "grenzwert_reihe = unendliche_reihe.doit()"
   ]
  },
  {
   "attachments": {},
   "cell_type": "markdown",
   "metadata": {},
   "source": [
    "Hier definieren wir eine unendliche Reihe $ \\sum_{n=1}^{\\infty} \\frac{1}{n^2} $ und berechnen ihren Grenzwert.\n",
    "\n",
    "### Beispiel\n",
    "\n",
    "Hier ist ein vollständiges Beispiel, das zeigt, wie man Folgen und Reihen in <span lang=\"en\">SymPy</span> definiert und berechnet:"
   ]
  },
  {
   "cell_type": "code",
   "execution_count": null,
   "metadata": {},
   "outputs": [],
   "source": [
    "from sympy import symbols, SeqFormula, summation, Sum, oo\n",
    "\n",
    "# Symbol definieren\n",
    "n = symbols('n')\n",
    "\n",
    "# Arithmetische Folge definieren\n",
    "a_n = SeqFormula(n**2, (n, 1, 10))\n",
    "\n",
    "# Endliche Reihe berechnen\n",
    "sum_reihe = summation(n**2, (n, 1, 10))\n",
    "\n",
    "# Unendliche Reihe definieren und berechnen\n",
    "unendliche_reihe = Sum(1/n**2, (n, 1, oo))\n",
    "grenzwert_reihe = unendliche_reihe.doit()\n",
    "\n",
    "# Ergebnisse ausgeben\n",
    "print(\"Folge: \", a_n)\n",
    "print(\"Summe der endlichen Reihe: \", sum_reihe)\n",
    "print(\"Grenzwert der unendlichen Reihe: \", grenzwert_reihe)"
   ]
  },
  {
   "attachments": {},
   "cell_type": "markdown",
   "metadata": {},
   "source": [
    "## Kapitel 4: Erstellen von Taylor-Reihen mit <span lang=\"en\">SymPy</span> <a id=\"taylor\"></a>"
   ]
  },
  {
   "attachments": {},
   "cell_type": "markdown",
   "metadata": {},
   "source": [
    "Die Taylor-Reihe ist ein mathematisches Werkzeug, das es ermöglicht, komplexe Funktionen durch Polynome anzunähern. Diese Reihen sind besonders nützlich, um das Verhalten von Funktionen in der Nähe eines bestimmten Punktes zu verstehen. <span lang=\"en\">SymPy</span> bietet eine einfache und effiziente Möglichkeit, Taylor-Reihen für verschiedene Funktionen zu erstellen.\n",
    "\n",
    "In <span lang=\"en\">SymPy</span> können Sie Taylor-Reihen für verschiedene Funktionen leicht erstellen. Hier ist ein Beispiel, wie Sie eine Taylor-Reihe für die Exponentialfunktion $ e^x $ um den Punkt 0 erstellen:"
   ]
  },
  {
   "cell_type": "code",
   "execution_count": null,
   "metadata": {},
   "outputs": [],
   "source": [
    "from sympy import symbols, exp, series\n",
    "\n",
    "x = symbols('x')\n",
    "f = exp(x)  # Exponentialfunktion\n",
    "\n",
    "# Taylor-Reihe für e^x um den Punkt 0 bis zur 5. Ordnung\n",
    "taylor_reihe = series(f, x, 0, 6)"
   ]
  },
  {
   "attachments": {},
   "cell_type": "markdown",
   "metadata": {},
   "source": [
    "In diesem Beispiel erstellt `series(f, x, 0, 6)` die Taylor-Reihe von $ e^x $ um den Punkt 0 (d.h. $ a = 0 $) bis zur 5. Ordnung (da der letzte Parameter die Anzahl der Terme in der Reihe angibt).\n",
    "\n",
    "### Beispielcode\n",
    "\n",
    "Hier ist ein vollständiger Code, der Taylor-Reihen für die Exponential-, Sinus- und Kosinus-Funktionen erstellt:\n"
   ]
  },
  {
   "cell_type": "code",
   "execution_count": null,
   "metadata": {},
   "outputs": [],
   "source": [
    "from sympy import symbols, exp, sin, cos, series\n",
    "\n",
    "x = symbols('x')\n",
    "\n",
    "# Funktionen definieren\n",
    "f_exp = exp(x)\n",
    "f_sin = sin(x)\n",
    "f_cos = cos(x)\n",
    "\n",
    "# Taylor-Reihen erstellen\n",
    "taylor_exp = series(f_exp, x, 0, 6)\n",
    "taylor_sin = series(f_sin, x, 0, 6)\n",
    "taylor_cos = series(f_cos, x, 0, 6)\n",
    "\n",
    "# Ergebnisse ausgeben\n",
    "print(\"Taylor-Reihe für e^x: \", taylor_exp)\n",
    "print(\"Taylor-Reihe für sin(x): \", taylor_sin)\n",
    "print(\"Taylor-Reihe für cos(x): \", taylor_cos)"
   ]
  },
  {
   "attachments": {},
   "cell_type": "markdown",
   "metadata": {},
   "source": [
    "## Kapitel 5: Grundlagen zu Eigenwerten und Eigenvektoren <a id=\"eigen\"></a>"
   ]
  },
  {
   "attachments": {},
   "cell_type": "markdown",
   "metadata": {},
   "source": [
    "Eigenwerte und Eigenvektoren sind grundlegende Konzepte in der linearen Algebra und spielen eine wichtige Rolle in vielen Bereichen der Mathematik und Physik. Sie sind besonders nützlich in der Analyse linearer Transformationen. <span lang=\"en\">SymPy</span> bietet Funktionen zur Berechnung von Eigenwerten und Eigenvektoren.\n",
    "\n",
    "\n",
    "### Berechnung von Eigenwerten und Eigenvektoren mit <span lang=\"en\">SymPy</span>\n",
    "\n",
    "<span lang=\"en\">SymPy</span> ermöglicht die Berechnung der Eigenwerte und Eigenvektoren einer Matrix auf einfache Weise. Hier ist ein Beispiel, wie Sie dies tun können:\n",
    "\n",
    "1. **Matrix definieren**\n",
    "   \n",
    "   Zuerst definieren Sie eine Matrix. In <span lang=\"en\">SymPy</span> können Sie dies mit der `Matrix`-Klasse tun."
   ]
  },
  {
   "cell_type": "code",
   "execution_count": 7,
   "metadata": {},
   "outputs": [],
   "source": [
    "from sympy import Matrix\n",
    "\n",
    "# Eine 2x2 Matrix definieren\n",
    "A = Matrix([[2, 1], [1, 2]])"
   ]
  },
  {
   "attachments": {},
   "cell_type": "markdown",
   "metadata": {},
   "source": [
    "2. **Eigenwerte berechnen**\n",
    "\n",
    "   Die Eigenwerte können mit der Methode `eigenvals` der Matrix berechnet werden."
   ]
  },
  {
   "cell_type": "code",
   "execution_count": 8,
   "metadata": {},
   "outputs": [],
   "source": [
    "eigenwerte = A.eigenvals()"
   ]
  },
  {
   "attachments": {},
   "cell_type": "markdown",
   "metadata": {},
   "source": [
    "3. **Eigenvektoren berechnen**\n",
    "\n",
    "    Um die Eigenvektoren zu berechnen, verwenden Sie die Methode `eigenvects`."
   ]
  },
  {
   "cell_type": "code",
   "execution_count": 9,
   "metadata": {},
   "outputs": [],
   "source": [
    "eigenvektoren = A.eigenvects()"
   ]
  },
  {
   "attachments": {},
   "cell_type": "markdown",
   "metadata": {},
   "source": [
    "### Beispiel\n",
    "\n",
    "Hier ist ein vollständiges Beispiel:"
   ]
  },
  {
   "cell_type": "code",
   "execution_count": null,
   "metadata": {},
   "outputs": [],
   "source": [
    "from sympy import Matrix\n",
    "\n",
    "# Matrix definieren\n",
    "A = Matrix([[2, 1], [1, 2]])\n",
    "\n",
    "# Eigenwerte berechnen\n",
    "eigenwerte = A.eigenvals()\n",
    "\n",
    "# Eigenvektoren berechnen\n",
    "eigenvektoren = A.eigenvects()\n",
    "\n",
    "eigenwerte, eigenvektoren"
   ]
  },
  {
   "attachments": {},
   "cell_type": "markdown",
   "metadata": {},
   "source": [
    "\n",
    "Hier sind die Ergebnisse für die Matrix $ A = \\begin{pmatrix} 2 & 1 \\\\ 1 & 2 \\end{pmatrix} $:\n",
    "\n",
    "1. **Eigenwerte:**\n",
    "   - Der Eigenwert $ \\lambda = 3 $ hat eine algebraische Vielfachheit von 1.\n",
    "   - Der Eigenwert $ \\lambda = 1 $ hat ebenfalls eine algebraische Vielfachheit von 1.\n",
    "\n",
    "2. **Eigenvektoren:**\n",
    "   - Zum Eigenwert $ \\lambda = 1 $ gehört der Eigenvektor $ \\begin{pmatrix} -1 \\\\ 1 \\end{pmatrix} $.\n",
    "   - Zum Eigenwert $ \\lambda = 3 $ gehört der Eigenvektor $ \\begin{pmatrix} 1 \\\\ 1 \\end{pmatrix} $."
   ]
  },
  {
   "cell_type": "markdown",
   "metadata": {},
   "source": [
    "## Dieses Notebook hat angepasste Aussprache"
   ]
  }
 ],
 "metadata": {
  "kernelspec": {
   "display_name": "base",
   "language": "python",
   "name": "python3"
  },
  "language_info": {
   "codemirror_mode": {
    "name": "ipython",
    "version": 3
   },
   "file_extension": ".py",
   "mimetype": "text/x-python",
   "name": "python",
   "nbconvert_exporter": "python",
   "pygments_lexer": "ipython3",
   "version": "3.12.7"
  },
  "orig_nbformat": 4
 },
 "nbformat": 4,
 "nbformat_minor": 2
}
