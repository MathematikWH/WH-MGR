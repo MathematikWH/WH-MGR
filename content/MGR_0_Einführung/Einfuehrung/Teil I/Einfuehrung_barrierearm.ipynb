{
 "cells": [
  {
   "cell_type": "markdown",
   "id": "ff809798",
   "metadata": {},
   "source": [
    "## Eine Einführung in Python und Jupyter Notebooks"
   ]
  },
  {
   "cell_type": "markdown",
   "id": "4d71675e",
   "metadata": {},
   "source": [
    "Dieses Jupyter Notebook ist das erste in einer Reihe von Notebooks, die das Ziel verfolgen, mathematische Inhalte aus der Vorlesung mit Programmieraufgaben zu festigen und gegebenenfalls zu erweitern. Konkret wird in diesem Notebook die Notwendigkeit von Programmierkenntnissen motiviert, sowie eine Einführung in die Grundlagen von Python und Jupyter Notebooks in Form eines Crashkurses geboten.\n",
    "\n",
    "Inhalt:\n",
    "<ul>\n",
    " <li><a href=\"#Chapter1\">Kapitel 1: Motivation</a></li>\n",
    " <li><a href=\"#Chapter2\">Kapitel 2: Grundlegende Rechenoperationen und Variablen</a></li>\n",
    " <li><a href=\"#Chapter3\">Kapitel 3: Listen</a></li>\n",
    " <li><a href=\"#Chapter4\">Kapitel 4: Schleifen</a></li>\n",
    " <li><a href=\"#Chapter5\">Kapitel 5: Funktionen</a></li>\n",
    " <li><a href=\"#Chapter6\">Kapitel 6: Texte in Python: strings</a></li>\n",
    " <li><a href=\"#Chapter7\">Kapitel 7: if-Abfragen</a></li>\n",
    " <li><a href=\"#Chapter8\">Kapitel 8: Abschlussaufgabe</a></li>\n",
    " <li><a href=\"#Chapter9\">Kapitel 9: Lösungen</a></li>\n",
    "</ul>\n",
    "\n",
    "**Python Grundlagen:** Keine <br>\n",
    "**Mathematische Grundlagen:** Mittelstufenniveau"
   ]
  },
  {
   "cell_type": "markdown",
   "id": "b5486434",
   "metadata": {},
   "source": [
    "<div style=\"padding: 15px; border-radius: 8px; border: 2px solid; border-color: Green; background-color: #E0FFD1;\">\n",
    "    <p>Das Dateiformat, das Sie hier sehen, nennt sich <b>Jupyter Notebook</b> (.ipynb). Solche Notebooks werden dazu verwendet, Computercode mithilfe von Fließtexten, mathematischen Formeln, Bildern und interaktiven Widgets anschaulicher zu machen. Wir werden Jupyter in diesem Kurs dazu verwenden, Ihnen die Grundlagen der Programmiersprache Python beizubringen und Ihnen parallel anwendungsbezogene Programmieraufgaben zu stellen.</p>\n",
    "\n",
    "<p>Hier einige Hinweise zur Verwendung der Jupyter Notebooks:</p>\n",
    "<ul>\n",
    "    <li>Ein Jupyter Notebook setzt sich aus Zellen bzw. Blöcken zusammen, von denen es zwei Typen gibt: <strong>Textblöcke</strong> und <strong>Codeblöcke</strong>. Textblöcke enthalten Aufgabenstellungen und Erklärungen und müssen somit nicht von Ihnen verändert werden. Codeblöcke enthalten Pythoncode, der entweder vorgegeben ist oder von Ihnen selbst geschrieben werden muss.</li>\n",
    "    <li>Zum Ausführen eines Blocks klicken Sie auf <strong>Start</strong> (▶) in der Toolbar, alternativ können Sie auch <strong>Strg + Enter</strong> drücken.</li>\n",
    "    <li>Möchtest du einen Block ausführen und direkt in die nächste Zeile springen drücke <strong>Shift + Enter</strong>.</li>\n",
    "    <li>Möchten Sie ein laufendes Programm in einem Codeblock abbrechen, klicken Sie auf <strong>Stopp</strong> (⏹).</li>\n",
    "    <li>In der Toolbar befinden sich noch weitere Schaltflächen, mit denen das Notebook editiert werden kann. Fährt man mit dem Mauszeiger über ein Symbol, wird eine Erklärung zu diesem angezeigt. Für die Verwendung dieser Notebooks werden außer <strong>Start</strong> und <strong>Stopp</strong> keine weiteren Schaltflächen benötigt.</li>\n",
    "    <li>Alle Codeblöcke sind miteinander verbunden. Sie müssen diese also der Reihe nach (von oben nach unten) ausführen. Die Zahl, die links neben einem ausgeführten Codeblock steht, gibt die Reihenfolge an, in der die Codeblöcke ausgeführt wurden.</li>\n",
    "    <li>Haben Sie vorgefertigte Text- oder Codeblöcke verändert und möchten diese Änderungen rückgängig machen, verwenden Sie die Tastenkombination <strong>Strg + Z</strong>. Diese müssen Sie so häufig anwenden, bis alle Ihre Änderungen einzeln rückgängig gemacht wurden.</li>\n",
    "    <li>Sollten Sie eine rückgängig gemachte Änderung wiederherstellen wollen, drücken Sie einfach <strong>Strg + Y<strong>.\n",
    "</ul>\n",
    "    </div>"
   ]
  },
  {
   "cell_type": "markdown",
   "id": "07ef6514-e8e1-4d61-8f53-2accaafe47e6",
   "metadata": {},
   "source": [
    "<a name=\"Chapter1\"></a>"
   ]
  },
  {
   "cell_type": "markdown",
   "id": "b541d6f8",
   "metadata": {},
   "source": [
    "#### Kapitel 1: Motivation\n",
    "<hr>"
   ]
  },
  {
   "cell_type": "markdown",
   "id": "78cd1a76",
   "metadata": {},
   "source": [
    "Viele Probleme in Naturwissenschaft und Technik lassen sich nicht von Hand lösen. Hierzu zählen nicht nur komplexe Gleichungssysteme, sondern auch die Auswertung von Experimenten, deren Datensätze häufig mehrere zehntausend (oder mehr!) Datenpunkte beinhalten. Ein Werkzeug, welches bei diesen und auch vielen weiteren Problemen Abhilfe schafft, ist die Programmiersprache **Python**. Sie ist eine der beliebtesten und am weitest verbreiteten Programmiersprachen der Welt. Dies liegt nicht nur daran, dass sie vergleichsweise einfach zu erlernen ist, sondern auch daran, dass sie trotz ihrer Einfachheit sehr vielseitig einsetzbar ist. Von der Darstellung einfacher Graphen bis hin zu Simulationen und neuronalen Netzwerken - Python ist häufig die erste Wahl. Grundlagenkenntnisse in Python sind damit in vielen Bereichen unverzichtbar und diese bereits im Studium zu erlernen, ist wichtig. \n",
    "\n",
    "Hier einige konkrete Beispiele für Probleme bzw. Aufgabenstellungen, welche ohne Computerhilfe kaum zu bewältigen sind:"
   ]
  },
  {
   "cell_type": "markdown",
   "id": "99dcf4d4",
   "metadata": {
    "tags": []
   },
   "source": [
    "#### **<u>Beispiel:</u>** <u>Auswertung von Experimenten</u>"
   ]
  },
  {
   "cell_type": "markdown",
   "id": "321e3ea5",
   "metadata": {},
   "source": [
    "<p>Stell dir vor, du möchtes herausfinden wie oft eine bestimmte Zahl bei einem Würfel vorkommt, wenn du dies jeden Tag mit echten Würfeln testen wollen würdest bräuchstes du dafür sehr lange und es wäre sehr aufwendig.\n",
    "Jedoch gibt es dafür eine einfachere Lösung! Du kannst die Würfel einfach von deinem Computer \"werfen\" lassen und das mit Python! Der Computer kann super schnell die Würfel werfen und die Augenzahl auswerten und das in wenigen Sekunden.</p>\n",
    "\n",
    "\n",
    "\n",
    "<blockquote>\n",
    "<p><strong>Am Rande</strong>: Mit Python lassen sich nicht nur Würfel sondern auch viele andere sehr viel komplexere Simulationen und Berechnungen durchführen.</p>\n",
    "</blockquote>\n"
   ]
  },
  {
   "cell_type": "markdown",
   "id": "47985c38",
   "metadata": {
    "tags": []
   },
   "source": [
    "#### **<u>Beispiel:</u>** <u>Neuronale Netzwerke</u>"
   ]
  },
  {
   "cell_type": "markdown",
   "id": "b251922e",
   "metadata": {},
   "source": [
    "In der heutigen Forschung ist der Einsatz von neuronalen Netzwerken (bzw. Deep Learning) nicht mehr wegzudenken. Solche Netzwerke sind in der Lage komplexe Muster und Zusammenhänge zu erkennen, die daraufhin verwendet werden können, um bestimmte Vorhersagen zu treffen. Ein typisches Beispiel ist die Klassifizierung von Bildern. So kann man beispielsweise ein neuronales Netzwerk dazu trainieren, mit hoher Präzision Bilder von Hunden und Katzen zu trennen, ohne dem Netzwerk explizit mitzuteilen, auf welche Merkmale hierbei zu achten ist! Ein typisches Lernschema eines neuronalen Netzwerks (auch NN genannt) ist unten dargestellt. Als Training erhält das NN bereits klassifizierte Daten (Tierbilder und die zugehörige Klasse: Hund oder Katze). Nach einem ausreichend langen Trainingsprozess kann man dann Daten ohne Klassenlabel vom NN klassifizieren lassen. An dieser Stelle ist es möglich dem Netzwerk auch Bilder zu übergeben die streng genommen nicht in das Schema Hund - Katze fallen, wie z.B. das Bild eines Tigers. Ein gut trainiertes Netzwerk wird den Tiger als Katze klassifizieren, da die äußerlichen Merkmale eines Tigers der einer Hauskatze deutlich ähnlicher sind.\n",
    "\n",
    "> **Am Rande:** Ein konkretes Beispiel aus der Forschung ist die Rekonstruktion von Energien in einem Teilchendetektor. Die Trainingsdaten entstehen hierbei oft durch komplexe Simulationen der Interaktionen zwischen Teilchen und Materie. "
   ]
  },
  {
   "cell_type": "markdown",
   "id": "8e9f7711",
   "metadata": {},
   "source": [
    "<img src=\"IMG_NeuronalesNetzwerk.png\" alt = \"Dieses Bild zeigt ein Schema zum Lernprozess von einem neuronalen Netzwerk, in dem Hunde und Katzen klassifiziert werden sollen.\" width=\"700\" height=\"500\" style=\"display: block; margin: 0 auto;\"/>"
   ]
  },
  {
   "cell_type": "markdown",
   "id": "a98170e7",
   "metadata": {},
   "source": [
    "**Bildbeschreibung:** Auf dem Bild ist zu sehen, dass zwei Bilder von Katzen und zwei Bilder von Hunden einem neuronalen Netzwerk übergeben werden. Daraufhin werden vier weitere Bilder übergeben: zwei Hunde, eine Katze und ein Tiger. Das neuronale Netzwerk kategorisiert nun die Hunde als Hunde, die Katze als Katze und klassifiziert den Tiger ebenfalls als Katze."
   ]
  },
  {
   "cell_type": "markdown",
   "id": "822f84d4-01b0-4edc-804c-e6155c412a57",
   "metadata": {},
   "source": [
    "<a name=\"Chapter2\"></a>"
   ]
  },
  {
   "cell_type": "markdown",
   "id": "7c603258",
   "metadata": {},
   "source": [
    "#### Kapitel 2: Grundlegende Rechenoperationen und Variablen\n",
    "<hr>"
   ]
  },
  {
   "cell_type": "markdown",
   "id": "e9d39942",
   "metadata": {},
   "source": [
    "In seiner simpelsten Form kann man Python als einen gewöhnlichen Taschenrechner verwenden. Der folgende Codeblock enthält einige Beispiele für einfache Rechenoperationen, die man mit Python ausführen kann. Mit dem Befehl ```print()``` weist man das Programm an, das Ergebnis nach der Rechnung auszugeben. Klicken Sie auf den Codeblock und anschließend auf *Start* (▶) in der Toolbar oder drücke alternativ *Strg + Enter*, um den Code auszuführen. Unterhalb des Codeblocks werden die Ergebnisse der Rechnungen angezeigt."
   ]
  },
  {
   "cell_type": "code",
   "execution_count": null,
   "id": "9e701075-9d0f-41de-9c70-ddf270c2a553",
   "metadata": {},
   "outputs": [],
   "source": [
    "print(2 + 3)\n",
    "print(2 - 3)\n",
    "print(2 / 3)\n",
    "print(2 * 3)"
   ]
  },
  {
   "cell_type": "markdown",
   "id": "21f6729f",
   "metadata": {},
   "source": [
    "**Learning by Doing!** Wenn es um das Erlernen von Programmiersprachen geht, ist es essentiell, alles, was man in der Theorie lernt, auch direkt in die Tat umzusetzen und selbst auszuprobieren. Wir empfehlen es Ihnen, alle Codebeispiele (so einfach sie auch sein mögen), die Sie hier sehen, nochmals in einer abgewandelten Form selbst zu schreiben. Dies kann direkt im selben Codeblock geschehen. Ergänzen Sie den oberen Codeblock mit Ihren eigenen Beispielen und probieren Sie dabei auch Zeilen zwischen den Befehlen freizulassen sowie die Leerzeichen in den Klammern wegzulassen. Was fällt Ihnen auf?"
   ]
  },
  {
   "cell_type": "markdown",
   "id": "6f1f9fe7",
   "metadata": {},
   "source": [
    "Ein besonderer Rechenoperator in Python ist der sogenannte Modulo Operator (%). Dieser gibt den Rest einer Division zurück. In dem nächsten Codeblock sind ein paar Beispiele für den Modulo-Operator."
   ]
  },
  {
   "cell_type": "code",
   "execution_count": null,
   "id": "325bbeae",
   "metadata": {},
   "outputs": [],
   "source": [
    "print (7 % 3)\n",
    "print (54 % 5)\n",
    "print (10 % 2)"
   ]
  },
  {
   "cell_type": "markdown",
   "id": "d64bbc15",
   "metadata": {},
   "source": [
    "\n",
    "Wir können Rechnungen in Python selbstverständlich auch auf alle reellen Zahlen, also alle Zahlen die auf einem Zahlenstrahl liegen, erweitern. Möchte man Potenzen berechnen, so schreibt man ```2**5``` für $2^5$. Führen Sie den untenstehenden Codeblock aus und betrachten Sie das Ergebnis.\n",
    "\n",
    "> **Tipp:** Jeder ```print()```-Befehl in Python schreibt seinen Inhalt in eine neue Zeile. Möchte man Zeilen freilassen, so kann man einfach einen leeren ```print()```-Befehl verwenden, ohne einen Wert zu übergeben.\n"
   ]
  },
  {
   "cell_type": "code",
   "execution_count": 3,
   "id": "9679d78a-7c3e-46d0-85a7-2393512958fb",
   "metadata": {},
   "outputs": [],
   "source": [
    "# Dies ist ein Kommentar.\n",
    "# Texte, die mit einem Hashtag (#) beginnen werden von Python ignoriert.\n",
    "\"\"\"\n",
    "Möchte man Kommentare über mehrere Zeilen verfassen, kann man den Text in drei Anführungsstriche setzen.\n",
    "Kommentare eignen sich hervorragend, um den eigenen Code zu erklären (für sich selbst und andere)!\n",
    "Ergänzen Sie diesen Codeblock wieder mit Ihren eigenen Beispielen!\n",
    "\"\"\"\n",
    "\n",
    "print(-1.27 + 0.48)\n",
    "print(2**3)\n",
    "print(9**1/2)\n",
    "print(9**(1/2))\n",
    "print(2*10**5)"
   ]
  },
  {
   "cell_type": "markdown",
   "id": "796a6421",
   "metadata": {},
   "source": [
    "Wie man sehen kann ist, auch im Programmieren Klammersetzung äußerst wichtig! Die Zahl ```9**1/2``` wird nämlich nicht als $9^{1/2} = \\sqrt{9} = 3$ interpretiert, sondern als $9^1/2 = 4.5$. Ihnen ist bestimmt aufgefallen, dass manche Ergebnisse mit einem Komma geschrieben werden und manche nicht, doch weshalb ist das so? In Python werden Zahlen in der Regel in zwei Typen unterteilt: ganze Zahlen (*integer*) und Kommazahlen (*float*). Ist eine ganze Zahl, wie z.B. die $3$, als *float* gespeichert, so wird sie immer als Kommazahl ausgegeben: ```3.0```. Eine automatische Umwandlung in einen *integer* findet nicht statt (und ist in den meisten Fällen auch nicht notwendig). Im Laufe dieser Einführung werden Sie noch weitere Datentypen kennenlernen.\n",
    "\n",
    "> **Am Rande:** Der Grund für die Trennung von Zahlen in *integer* und *float* ist von technischer Natur. Speichert man eine Zahl als *integer* ab, verbraucht sie weniger Speicherplatz, als wenn man sie als *float* abspeichern würde. In diesem Kurs werden Sie sich über Speicherplatz allerdings keine Gedanken machen müssen. Dies wird erst dann wichtig, wenn riesige Datenmengen verarbeitet werden müssen oder Programme für Geräte entwickelt werden sollen, die über sehr begrenzten Speicherplatz verfügen.\n",
    "\n",
    "Im ersten Codeblock wurde der Bruch $2/3$ berechnet und als Dezimalzahl mit 16 Nachkommastellen ausgegeben. Eine solche Genauigkeit ist häufig nicht nötig oder sogar unerwünscht! Mithilfe der ```round()```-Funktion können Zahlen in Python auf beliebig viele Stellen gerundet werden. Hierfür können der Funktion zwei Eingabewerte überliefert werden: Zum einen die Zahl, die gerundet werden soll und zum anderen die Anzahl der Stellen, auf die gerundet werden soll. Gibt man die Anzahl der Stellen nicht an, wird immer auf eine ganze Zahl gerundet."
   ]
  },
  {
   "cell_type": "code",
   "execution_count": null,
   "id": "5c7a24c3-3b27-4ae1-a740-56d6f3ac4954",
   "metadata": {},
   "outputs": [],
   "source": [
    "print(2 / 3)\n",
    "print(round(2 / 3, 3))\n",
    "print(round(2 / 3, 2))\n",
    "print(round(2 / 3, 1))\n",
    "print(round(2 / 3))\n",
    "\n",
    "# Nicht vergessen: Rechnen Sie weitere Beispiele aus!"
   ]
  },
  {
   "cell_type": "markdown",
   "id": "f68361b5",
   "metadata": {},
   "source": [
    "Wir haben nun zwei Funktionen ineinander verschachtelt: ```print()``` und ```round()```. Wenn allerdings noch weitere Funktionen hinzukommen, wird die Codezeile schnell unübersichtlich. Häufig möchte man auch einige Zahlen oder Ergebnisse an anderer Stelle wiederverwenden, ohne den zugehörigen Code, der das Ergebnis berechnet, erneut abzutippen. Beide Probleme lassen sich mit der Verwendung von **Variablen** beheben. Betrachten Sie dazu den unten stehenden Codeblock."
   ]
  },
  {
   "cell_type": "code",
   "execution_count": null,
   "id": "e143cd63-b8a6-4844-9be2-d6bc618cef56",
   "metadata": {},
   "outputs": [],
   "source": [
    "x = 1.5\n",
    "y = 2.25\n",
    "z = x + y\n",
    "print(z)\n",
    "z = round(z)\n",
    "print(z) # anstatt von print(round(z))\n",
    "\n",
    "# Hier könnte Ihr Code stehen!"
   ]
  },
  {
   "cell_type": "markdown",
   "id": "32cbd4a7",
   "metadata": {},
   "source": [
    "An diesem Beispiel werden einige wichtige Syntax-Prinzipien von Python klar. Erstens liest Python strikt **von oben nach unten und Zeile für Zeile**. Erst wird eine Variable $x$ definiert und ihr der Wert $1.5$ zugewiesen. Danach wird $y$ definiert und ihr der Wert $2.25$ zugewiesen. Nun wird $z$ definiert und ihr der Wert $3.75 \\ (= x + y)$ zugewiesen. Eine Zeile darunter wird der Wert von $z$ ausgegeben $(3.75)$. Man sieht auch, dass Python Variablendefinitionen **von rechts nach links** liest. In der vorletzten Zeile wird der Wert der Variable $z$ $(3.75)$ gerundet $(\\text{auf } 4)$ und wieder als $z$ abgespeichert. Der Speicherplatz wurde dadurch überschrieben. Darum wird in der Konsole auch nicht $3.75$, sondern $4$ ausgegeben. Wenn du einer Variablen einen Wert zuweist, nennt man das auch eine **Initialisierung**. Das bedeutet, du gibst der Variablen am Anfang einen Wert, mit dem sie später im Programm arbeiten kann.\n",
    "\n",
    "> **Tipp:** Es ist häufig sehr hilfreich, einen Code Zeile für Zeile durchzugehen um genau zu verstehen, was für einen Zweck der Code bzw. ein Teil des Codes hat. Das ist auch besonders wichtig, um nachzuvollziehen, wo beim Programmieren möglicherweise ein Fehler unterlaufen ist!\n",
    "\n",
    "> **Am Rande:** Als **Syntax** bezeichnet man die \"Grammatik\" einer Programmiersprache. Sie unterscheidet sich von Sprache zu Sprache. Python besitzt eine vergleichsweise einfache und intuitive Syntax.\n",
    "\n",
    "Möchte man mehrere Variablen definieren, so bietet es sich an, diese in einer Zeile zu definieren, um Platz zu sparen:"
   ]
  },
  {
   "cell_type": "code",
   "execution_count": null,
   "id": "c5d5ce41-119f-4bc8-9743-62a6a664c6a3",
   "metadata": {},
   "outputs": [],
   "source": [
    "v_x, v_y, v_z = 1.5, 2.3, 0.4 # Variablen können (fast) beliebig benannt werden.\n",
    "abs_v = (v_x**2 + v_y**2 + v_z**2)**(1/2)\n",
    "print(round(abs_v, 2))"
   ]
  },
  {
   "cell_type": "markdown",
   "id": "b7e74119",
   "metadata": {},
   "source": [
    "Beim Benennen von Variablen sind einem nur wenig Grenzen gesetzt. Allerdings dürfen Variablennamen **nicht** mit einer Zahl beginnen und auch keine Leerzeichen enthalten. Ebenso kann eine Variable nicht nach einer Standarfunktion wie ```print()``` benannt werden. Ein Beispiel:"
   ]
  },
  {
   "cell_type": "code",
   "execution_count": null,
   "id": "45f62e6f-92ba-4f64-8bdb-e2754f9b5b49",
   "metadata": {},
   "outputs": [],
   "source": [
    "1ste variable = 1"
   ]
  },
  {
   "cell_type": "markdown",
   "id": "e9b1c13d",
   "metadata": {},
   "source": [
    "Der Compiler zeigt hier eine Fehlermeldung an, die uns darauf hinweist, dass unsere Eingabe nicht den Syntax-Regeln entspricht.\n",
    "\n",
    "> **Am Rande:** Der **Compiler** ist das Programm, das den geschriebenen Code in Maschinensprache übersetzt, damit der Prozessor ihn ausführen kann."
   ]
  },
  {
   "cell_type": "markdown",
   "id": "22c618b2-9c0d-4507-9e27-c42dfb8f67ab",
   "metadata": {},
   "source": [
    "<a name=\"Chapter3\"></a>"
   ]
  },
  {
   "cell_type": "markdown",
   "id": "84a3eda5",
   "metadata": {},
   "source": [
    "#### Kapitel 3: Listen\n",
    "<hr>"
   ]
  },
  {
   "cell_type": "markdown",
   "id": "07476740",
   "metadata": {},
   "source": [
    "In Python können wir auch mehrere Variablen wie zum Beispiel die Variablen ```v_x, v_y, v_z``` aus dem oberen Beispiel, zusammen in eine Liste gruppieren. Dies hilft oft damit einfacher mit ihnen zu arbeiten. Um eine Liste zu erstellen, schreibt man alle Variablen, die man in die Liste einfügen möchte, in eckige Klammern. Eine Liste kann auch, wie eine Variable, benannt werden:"
   ]
  },
  {
   "cell_type": "code",
   "execution_count": null,
   "id": "fc9516cb-025b-4357-be89-ae99dfa67905",
   "metadata": {},
   "outputs": [],
   "source": [
    "v = [v_x, v_y, v_z]\n",
    "w = [2.2, -1.6, -0.5] # Eine Liste kann auch direkt mit Zahlenwerten initialisiert werden.\n",
    "print(v)\n",
    "print(w)"
   ]
  },
  {
   "cell_type": "markdown",
   "id": "648b99e5",
   "metadata": {},
   "source": [
    "Eine Liste ist eine geordnete Datenstruktur; die Elemente einer Liste besitzen also eine festgelegte Reihenfolge! So ist das erste Element der Liste $v$ der Zahlenwert von ```v_x``` (da ```v_x``` bei der Initialisierung zuerst genannt wurde). Auf die Elemente einer Liste kann man mit dem Befehl ```v[i]``` einzeln zugreifen. Es gibt dazu jedoch eine wichtige Sache die man wissen muss, das erste Element einer Liste wird nicht mit ```v[1]``` angesprochen, sondern mit ```v[0]``` aufrufen. Die Zahl welche wir für i einsetzen nennt man einen **Index**, dieser beginnt immer bei 0 zu zählen und nicht bei 1. Der Zugriff auf Listenelemente kann auch rückwärts geschehen, hier wäre ```v[-1]``` der letzte Eintrag der Liste,  ```v[-2]``` der zweitletzte, usw."
   ]
  },
  {
   "cell_type": "code",
   "execution_count": null,
   "id": "9aaf746a-e96b-44fd-aaa8-21461d31d0ff",
   "metadata": {},
   "outputs": [],
   "source": [
    "print(w[0]) # Gibt das erste Elemente aus!\n",
    "print(w[1])\n",
    "print(w[2])\n",
    "print(w[-1])\n",
    "print(w[-2])\n",
    "print(w[-3])"
   ]
  },
  {
   "cell_type": "markdown",
   "id": "918f5c4a",
   "metadata": {},
   "source": [
    "Eine Liste kommt mit einer ganzen Reihe von Funktionen. So kann man sich zum Beispiel die Länge einer Liste oder auch das kleinste bzw. größte Element ausgeben lassen. Elemente können nachträglich auch hinzugefügt oder gelöscht werden. Funktionen, die die Liste verändern, werden einfach mit ```<Liste>.<Funktion>()``` aufgerufen, wie im unteren Beispiel zu sehen ist. Es entsteht somit keine veränderte Kopie der Liste, welche abgespeichert werden muss; die Liste wird in ihrem Original verändert."
   ]
  },
  {
   "cell_type": "code",
   "execution_count": null,
   "id": "1ccb9e1b-cd0d-4acb-a4ec-4a2bc5035ca2",
   "metadata": {},
   "outputs": [],
   "source": [
    "A = [0.3, 2, -0.4, 9, 3.3]\n",
    "\n",
    "A.pop(1) # .pop(i) löscht das Element mit Index i.\n",
    "print(A) # Die Variable (Liste) \"A\" wurde damit verändert. \n",
    "\n",
    "A.insert(2, 0) # .insert(i, x) fügt das Element x so ein, dass es den Index i erhält. Die darauffolgenden Indices werden verschoben!\n",
    "print(A)\n",
    "\n",
    "A.append(1.2) # .append(x) hängt das Element x am Ende der Liste an.\n",
    "print(A)\n",
    "\n",
    "print(len(A)) # Länge der Liste\n",
    "print(max(A)) # Größtest Element in Liste\n",
    "print(min(A)) # Kleinstes Element in Liste"
   ]
  },
  {
   "cell_type": "markdown",
   "id": "8353a527-00cd-4587-a04b-2392a8784454",
   "metadata": {},
   "source": [
    "<a name=\"Chapter4\"></a>"
   ]
  },
  {
   "cell_type": "markdown",
   "id": "5fad52bc",
   "metadata": {},
   "source": [
    "#### Kapitel 4: Schleifen\n",
    "<hr>"
   ]
  },
  {
   "cell_type": "markdown",
   "id": "627de12e",
   "metadata": {},
   "source": [
    "Stellen Sie sich vor, Sie haben eine Zahl und möchten so lange eine andere Zahl dazu addieren, bis Sie eine bestimmte Zahl erreicht haben. Zum Beispiel sollen die Zahlen von 1 bis 5 addiert werden. Anstatt dies manuell zu tun, können Sie eine Schleife verwenden, die von 1 bis 5 zählt."
   ]
  },
  {
   "cell_type": "code",
   "execution_count": null,
   "id": "7fe406e0-14a1-40c8-bf84-7022eae62059",
   "metadata": {},
   "outputs": [],
   "source": [
    "zahl = 1  # Wir starten bei 1\n",
    "\n",
    "while zahl < 6:  # Solange die Zahl kleiner oder gleich 5 ist\n",
    "    print(zahl)   # Drucke die Zahl\n",
    "    zahl = zahl + 1     # Erhöhe die Zahl um 1"
   ]
  },
  {
   "cell_type": "markdown",
   "id": "842ccfed",
   "metadata": {},
   "source": [
    "Wie arbeitet eine solche Schleife? Zunächst wird eine Variable $zahl$ definiert und auf 1 gesetzt. Dann wird die Schleife initialisiert: Sie soll die Anweisungen ```print(zahl)``` und ```zahl = zahl + 1``` wiederholen, solange die Variable $zahl$ kleiner als 6 ist. Im ersten Durchlauf ist $zahl = 1$; die Schleifenbedingung ist offensichtlich erfüllt und damit wird $zahl$ durch den ```print()```-Befehl ausgegeben. Danach wird $zahl$ um 1 erhöht. Die Schleife springt wieder an ihren Anfang und überprüft, ob $zahl \\ (= 2)$ kleiner als 6 ist. Dies ist wieder wahr und die Anweisungen werden erneut ausgeführt. Das alles wiederholt sich, solange bis $zahl = 6$ ist. Dann ist die Schleifenbedingung nicht mehr erfüllt, die Schleife wird abgebrochen und der Code ganz normal fortgesetzt.\n",
    "\n",
    "**Achtung!** Was passiert, wenn der Befehl ```zahl = zahl + 1``` nicht existieren würde? Richtig, die Schleife wird endlos weiterlaufen und Python wird immer wieder die Zahl 1 ausgeben. Sollte so etwas passieren, kann das Programm über das *Stopp*-Symbol (⏹) in der oberen Leiste abgebrochen werden."
   ]
  },
  {
   "cell_type": "markdown",
   "id": "31a98060",
   "metadata": {},
   "source": [
    "\n",
    "Eine weitere Schleifenart ist die *for*-Schleife. Sie funktioniert sehr ähnlich wie die *while*-Schleife, jedoch mit einem Unterschied: Bei einer for-Schleife musst du nicht selbst dafür sorgen, dass der Index (also die Zahl, mit der du zählst) immer um 1 erhöht wird. Das macht die Schleife automatisch für dich!"
   ]
  },
  {
   "cell_type": "code",
   "execution_count": 6,
   "id": "c266a363-cf59-4b66-a597-e4c404737d63",
   "metadata": {},
   "outputs": [],
   "source": [
    "for zahl in range(1, 6):\n",
    "    print(zahl)"
   ]
  },
  {
   "cell_type": "markdown",
   "id": "ac8a42bb",
   "metadata": {},
   "source": [
    "Diese *for*-Schleife erfüllt die gleiche Funktion wie die oben gezeigte *while*-Schleife. Bei der *for*-Schleife geben wir hinter dem Schlüsselwort in range zwei Werte an. Der erste Wert gibt an, bei welchem Wert die Zählvariable beginnen soll, und der zweite Wert legt fest, bis zu welchem Wert die Schleife ausgeführt wird. In diesem Fall endet die Schleife bei der Zahl 6, allerdings wird die Zahl 6 selbst nicht mehr ausgegeben, da der zweite Wert in range immer exklusiv ist."
   ]
  },
  {
   "cell_type": "markdown",
   "id": "050d9983-18e5-4f52-b24a-b7522b56f753",
   "metadata": {},
   "source": [
    "<a name=\"Aufgabe1\"></a>"
   ]
  },
  {
   "cell_type": "markdown",
   "id": "ce9ca202",
   "metadata": {},
   "source": [
    "<div style= \"color: black;background-color: powderblue ;margin: 10 px auto; padding: 10px; border-radius: 10px\">\n",
    "    <p style=\"font-size:12pt; text-align:center; color:   black; background-color: lightskyblue ;margin: 10 px auto; padding: 10px; border-radius: 10px\" id=\"1\"><b>Aufgabe 1: Zählen mit Schleifen</b><br>\n",
    "   \n",
    "Wenden Sie das bisher gelernte über *while-* und *for*-Schleifen an,\n",
    "\n",
    "indem Sie die Zahlen von 1 bis 10 ausgeben lassen, einmal mit einer\n",
    "1. *for*-Schleife\n",
    "2. *while*-Schleife\n",
    "\n",
    "> **Am Rande:** Was denken Sie, welche der beiden Schleifen ist sinnvoller zum lösen der Aufgabe?"
   ]
  },
  {
   "cell_type": "code",
   "execution_count": null,
   "id": "35fe4314",
   "metadata": {},
   "outputs": [],
   "source": [
    "# schreiben Sie hier gerne Ihren Code rein"
   ]
  },
  {
   "cell_type": "markdown",
   "id": "cd33176e",
   "metadata": {},
   "source": [
    "<a href=\"#Loesung1\">Hier</a> geht es zur Lösung.\n",
    "<a name=\"Chapter5\"></a>"
   ]
  },
  {
   "cell_type": "markdown",
   "id": "49b8fee4",
   "metadata": {},
   "source": [
    "#### Kapitel 5: Funktionen\n",
    "<hr>"
   ]
  },
  {
   "cell_type": "markdown",
   "id": "a9749cf6",
   "metadata": {},
   "source": [
    "Stellen Sie sich vor, Sie haben eine Rechenmaschine. Diese Maschine nimmt Zahlen die Sie ihr übergeben und rechnet mit diesen Zahlen. Sie müssen die Maschine nicht jedes mal neu bauen wenn Sie ihr neue Zahlen geben wollen, sondern müssten diese nur ein mal bauen. Dies können Sie in Python über sogenannte **Funktionen** machen."
   ]
  },
  {
   "cell_type": "code",
   "execution_count": null,
   "id": "b40549b3-23d0-46b4-b4a8-67ecfb4d6d4d",
   "metadata": {},
   "outputs": [],
   "source": [
    "# Eine einfache Funktion, die zwei Zahlen addiert\n",
    "def addiere(zahl1, zahl2):\n",
    "    return zahl1 + zahl2\n",
    "\n",
    "# Funktion aufrufen\n",
    "ergebnis = addiere(3, 5)\n",
    "print(ergebnis) "
   ]
  },
  {
   "cell_type": "markdown",
   "id": "1e87cd97",
   "metadata": {},
   "source": [
    "Eine Funktion wird also allgemein wie folgt definiert: ```def <Name der Funktion>(<Eingabevariablen>):```. Soll die Funktion schlussendlich eine Variable zurückgeben, schreibt man: ```return <Variable die zurückgegeben werden soll>```. Allerdings ist es auch möglich Funktionen zu schreiben, die gar nichts zurückgeben. Generell können alle möglichen Typen von Variablen als Eingabe- oder Rückgabe gewählt werden und es ist auch möglich Funktionen zu schreiben, die mehrere Variablen entgegennehmen und/oder mehrere Variablen zurückgeben. Betrachten Sie die folgenden Beispiele:."
   ]
  },
  {
   "cell_type": "code",
   "execution_count": null,
   "id": "28d55ae1-f0ca-4d11-9a02-6c2ae157b085",
   "metadata": {},
   "outputs": [],
   "source": [
    "def absolut(x): # Diese Funktion hat keinen Rückgabewert. Stattdessen wird nur der absolute Wert von x über den print()-Befehl ausgegeben.\n",
    "    print(abs(x)) # abs() in Python gibt den absoluten Wert von x zurück, das bedeutet, sie macht jede Zahl positiv (außer 0).\n",
    "    \n",
    "absolut(-2)\n",
    "print()\n",
    "\n",
    "def quadratische_berechnung(x, y): # quadratische_berechnung nimmt zwei Variablen entgegen.\n",
    "    faktor_a, faktor_b = 2, -1 # die Variablen faktor_a und faktor_b werden initialisiert.\n",
    "    return faktor_a*x**2 + faktor_b*y**2\n",
    "\n",
    "print(quadratische_berechnung(1, 3))\n",
    "print()"
   ]
  },
  {
   "cell_type": "markdown",
   "id": "d8a29074",
   "metadata": {},
   "source": [
    "Eine Variable, von der eine Funktion abhängen soll (z.B. $x$), wird ausschließlich im Rahmen der Funktion definiert und verwendet. Eine solche Variable nennt man auch *lokal*. Das heißt konkret: Definieren wir die Variable $x$ auch außerhalb der Funktion (eine solche Variable heißt dann *global*), so wird die Variable durch die Funktion selbst nicht verändert. Folgendes Beispiel:"
   ]
  },
  {
   "cell_type": "code",
   "execution_count": null,
   "id": "58a74678-09fe-43e2-9c9d-bdd8e00fa324",
   "metadata": {},
   "outputs": [],
   "source": [
    "x = 0 # Definiere x (global) und weise ihr den Wert 0 zu.\n",
    "print(x)\n",
    "\n",
    "def g(): # Definiere g als Funktion, die allerdings von keiner Variable abhängt\n",
    "    x = 1 # Setze die lokale Variable x gleich 1\n",
    "    return x\n",
    "\n",
    "print(g()) # Gib die lokale Variable aus (funktionsspezifisch)\n",
    "print(x) # Gib die globale, unveränderte Variable aus"
   ]
  },
  {
   "cell_type": "markdown",
   "id": "54348902-7f1a-444e-9337-a54cc247f72b",
   "metadata": {},
   "source": [
    "<a name=\"Chapter6\"></a>"
   ]
  },
  {
   "cell_type": "markdown",
   "id": "4fc741c2",
   "metadata": {},
   "source": [
    "#### Kapitel 6: Texte in Python *strings*\n",
    "<hr>"
   ]
  },
  {
   "cell_type": "markdown",
   "id": "fd1d503b",
   "metadata": {},
   "source": [
    "An dieser Stelle wollen wir einen weiteren Datentyp einwerfen: *strings*. Als einen *string* bezeichnet man alle Formen von Text, wie zum Beispiel \"Hello World!\". Diese werden oft dazu verwendet, die Ausgabe von Zahlenwerten übersichtlicher zu gestalten. Später werden wir Graphen von Funktionen zeichnen und *strings* verwenden, um die Achsen zu beschriften. Wichtig ist, dass Text in Python in Anführungszeichen gesetzt wird, um kenntlich zu machen, dass es sich um einen *string* handelt!"
   ]
  },
  {
   "cell_type": "code",
   "execution_count": null,
   "id": "faa81b6b-e045-47b5-8589-2f83468ea263",
   "metadata": {},
   "outputs": [],
   "source": [
    "print(\"Hello World!\")"
   ]
  },
  {
   "cell_type": "markdown",
   "id": "c891bc8f",
   "metadata": {},
   "source": [
    "Oft ist es praktisch, den Wert einer Variable in einen *string* einzuarbeiten. Als Platzhalter für diese Variable schreibt man ```%s``` in den *string* und gibt, nach dem abschließenden Anführungszeichen, an, welche Variable für den Platzhalter eingesetzt werden soll. Dies geschieht mit einem ```%x```, falls ```x``` in diesem Fall die einzusetzende Variable war. Im unteren Codeblock sind zwei Beispiele gegeben."
   ]
  },
  {
   "cell_type": "code",
   "execution_count": 3,
   "id": "46d2b50e-8813-48a0-9552-372f7b860dea",
   "metadata": {},
   "outputs": [
    {
     "name": "stdout",
     "output_type": "stream",
     "text": [
      "Hallo, Emma! Schön, dich zu sehen.\n",
      "Der Wert der Variable x beträgt 20\n",
      "x = 20, y = 50\n"
     ]
    }
   ],
   "source": [
    "name = \"Emma\" # Die Variable 'name' speichert den Namen als String\n",
    "print(\"Hallo, %s! Schön, dich zu sehen.\" % name)  #Ein Begrüßungstext wird ausgegeben, wobei %s durch den Wert von 'name' ersetzt wird\n",
    "x = 20\n",
    "print(\"Der Wert der Variable x beträgt %s\" %x)\n",
    "y = 50\n",
    "text = \"x = %s, y = %s\" %(x, y)\n",
    "print(text)"
   ]
  },
  {
   "cell_type": "markdown",
   "id": "d38acb10-aa9c-43be-8119-af44411d3860",
   "metadata": {},
   "source": [
    "<a name=\"Aufgabe2\"></a>"
   ]
  },
  {
   "cell_type": "markdown",
   "id": "0b208b8a",
   "metadata": {},
   "source": [
    "<div style= \"color: black;background-color: powderblue ;margin: 10 px auto; padding: 10px; border-radius: 10px\">\n",
    "    <p style=\"font-size:12pt; text-align:center; color:   black; background-color: lightskyblue ;margin: 10 px auto; padding: 10px; border-radius: 10px\" id=\"1\"><b>  Aufgabe 2 (muss noch angepasst werden, Aufgabe zu schwierig) </b>  </p> \n",
    "\n",
    "**Aufgabe 2:** Wir wollen nun ein physikalisches Beispiel betrachten, indem das Gelernte angewendet werden kann. Die unten angegebene Formel gibt die Gravitationsbeschleunigung auf der Oberfläche eines Planeten mit Dichte $\\rho$ und Radius $R$ an.\n",
    "\n",
    "$$ g(\\rho, R) = \\frac{4\\pi G}{3} \\cdot \\rho \\cdot R \\ , \\quad G = 6.6743 \\cdot 10^{-11} \\frac{\\mathrm{N}\\mathrm{m}^2}{\\mathrm{kg}^2}$$\n",
    "\n",
    "$G$ bezeichnet die Gravitationskonstante. Ergänzen Sie den unten stehenden Code und berechnen Sie damit die Gravitationsbeschleunigungen auf den Oberflächen der folgenden Planeten:\n",
    "\n",
    "| Planet      | Dichte $\\rho$ [g/cm^3] | Radius $R$ [km]|   \n",
    "| ----------- | ---------------------- | -------------- |\n",
    "| Erde        | 5,51                   | 6357           |\n",
    "| Mond        | 3,34                   | 1737           |\n",
    "| Mars        | 3,93                   | 3386           |\n",
    "| Saturn      | 0.69                   | 58232          |\n",
    "| Jupiter     | 1.33                   | 69911          |\n",
    "| Kepler-1649c| 5,54                   | 6738           |\n",
    "\n",
    "Einheiten können in Python nicht übertragen werden, sondern nur Zahlenwerte. Es ist somit immer wichtig im Hinterkopf zu behalten, in welchen Einheiten man rechnet. Hier helfen Kommentare im Code!"
   ]
  },
  {
   "cell_type": "code",
   "execution_count": null,
   "id": "747b5fcd",
   "metadata": {},
   "outputs": [],
   "source": [
    "# schreiben Sie hier gerne Ihren Code rein"
   ]
  },
  {
   "cell_type": "markdown",
   "id": "a06700e3",
   "metadata": {},
   "source": [
    "<a href=\"#Loesung2\">Hier</a> geht es zur Lösung.\n",
    "<a name=\"Chapter7\"></a>"
   ]
  },
  {
   "cell_type": "markdown",
   "id": "6b1b8ab9",
   "metadata": {},
   "source": [
    "#### Kapitel 7: *if*-Abfragen\n",
    "<hr>"
   ]
  },
  {
   "cell_type": "markdown",
   "id": "92f5ebc9",
   "metadata": {},
   "source": [
    "Stellen Sie sich vor, Sie möchten prüfen, ob eine Zahl größer als ein bestimmter Wert ist. Dies können Sie ganz einfach mit einer sogenannten *if*-Abfrage machen. Eine *if*-Abfrage prüft, ob eine bestimmte Bedingung erfüllt ist und führt den Code nur aus, wenn die Bedingung wahr ist.\n",
    "\n",
    "Im Gegensatz zu einer *while*- oder *for*-Schleife, die die Bedingung wiederholt ausführt, wird die if-Abfrage nur einmalig geprüft und nur dann ausgeführt, wenn die Bedingung wahr ist. Das bedeutet, dass der Code in der *if*-Abfrage nur einmal läuft, sofern die Bedingung zu Beginn wahr ist."
   ]
  },
  {
   "cell_type": "code",
   "execution_count": null,
   "id": "1157e0b0",
   "metadata": {},
   "outputs": [],
   "source": [
    "zahl, wert = 5, 3    # Die Variablen zahl und wert werden intialiesiert, probieren Sie es gerne mal mit anderen Werten aus und schauen Sie was passiert\n",
    "if zahl > wert:\n",
    "    print (\"Diese Zahl ist gültig\")"
   ]
  },
  {
   "cell_type": "markdown",
   "id": "b98ca758",
   "metadata": {},
   "source": [
    "Will man zwei *if*-Abfragen, deren Bedingungen komplementär sind (ist die eine Bedingung erfüllt, dann ist die andere automatisch nicht erfüllt und umgekehrt) hintereinander stellen, kann man einfach ein ```else:``` verwenden. Dieser Befehl bezieht sich dann immer auf die vorherige *if*-Abfrage. Selbstverständlich können dann nicht beide Anweisungen durchgeführt werden."
   ]
  },
  {
   "cell_type": "code",
   "execution_count": 22,
   "id": "4824530a-6bd9-424d-926c-bec776d68eab",
   "metadata": {},
   "outputs": [
    {
     "name": "stdout",
     "output_type": "stream",
     "text": [
      "Diese Zahl ist ungültig\n"
     ]
    }
   ],
   "source": [
    "zahl, wert = 3, 3 \n",
    "if zahl > wert:\n",
    "    print(\"Diese Zahl ist gültig\")\n",
    "else:\n",
    "    print(\"Diese Zahl ist ungültig\") "
   ]
  },
  {
   "cell_type": "markdown",
   "id": "7720ca7d",
   "metadata": {},
   "source": [
    "Die Bedingungen, die wir bei Schleifen und *if*-Abfragen verwenden, nennt man **bool(ean)s**. Das sind logische Aussagen, die entweder wahr (True) oder falsch (False) sein können. Sie vergleichen Aussagen, die mit \"und\" (&) und \"oder\" (|) verbunden werden können.\n",
    "\n",
    "> **Am Rande:** *bools* sind ein Datentyp für sich. Sie nehmen den wenigsten Speicherplatz ein und werden immer dann verwendet, wenn nur zwei Zustände gebraucht werden um ein gegebenes System zu beschreiben. Der *bool* \"True\" wird häufig mit einer 1, \"False\" häufig mit der Null assoziiert. Diese Assoziation hat ihren Ursprung im Maschinencode, der sich nur aus Einsen und Nullen zusammensetzt."
   ]
  },
  {
   "cell_type": "code",
   "execution_count": null,
   "id": "a9de3d57-ae83-457b-9eaa-cd293ff2077c",
   "metadata": {},
   "outputs": [],
   "source": [
    "print(2 > 0)\n",
    "print(2 < 0)\n",
    "print(1 == 4) # \"==\" -> Überprüfe ob zwei Zahlen gleich sind.\n",
    "print(3 <= 3)\n",
    "\n",
    "print()\n",
    "\n",
    "print((2 > 1) & (0 < 1)) # hier wird durch & geprüft ob beide Bedingungen erfüllt sind\n",
    "print((2 > 1) | (5 < 1)) # hier wird durch | geprüft ob mindestens eine der beiden Bedingungen erfüllt ist\n",
    "print((0 > 1) & (1 == 1))\n",
    "print((0 >= 1) | (3 < 3))"
   ]
  },
  {
   "cell_type": "markdown",
   "id": "5bad7d8c",
   "metadata": {},
   "source": [
    "*if*-Abfragen können verwendet werden, um Schleifen, falls nötig, früher abzubrechen. Hierzu verwendet man zusätzlich auch den ```break```-Befehl:"
   ]
  },
  {
   "cell_type": "code",
   "execution_count": null,
   "id": "f62911d4-f150-45a2-b514-0b977e008659",
   "metadata": {},
   "outputs": [],
   "source": [
    "B = [0, 0, 0, -0.6, 0,  0.3]\n",
    "\n",
    "for item in B: # Gib das erste Element der Liste B aus welches ungleich null ist.\n",
    "    if item != 0: # \"!=\" bedeutet ungleich.\n",
    "        print(item)\n",
    "        break"
   ]
  },
  {
   "cell_type": "markdown",
   "id": "9fa7491d",
   "metadata": {},
   "source": [
    "Der obige Code ist ein hervorragendes Beispiel dafür, wie wichtig es ist, Einheiten beim Programmieren im Auge zu behalten. Die obige Funktion ist nämlich so geschrieben, dass sie Abstände in Kilometern entgegennimmt und nicht in Metern (SI). Dies kann Verwirrung stiften, wenn andere Personen den Code verstehen wollen, oder auch, wenn Sie Ihren eigenen Code, den Sie vielleicht vor mehreren Monaten geschrieben haben, nochmals verwenden möchten. Kommentare können hier schnell Abhilfe schaffen!\n",
    "\n",
    "Zusammen mit dem bereits gesammelten Wissen über Schleifen, Listen und *if*-Abfragen sind wir nun (theoretisch) auch in der Lage, einen Algorithmus zu programmieren, der die Einträge einer Liste sortieren kann. Der folgende Codeblock zeigt einen solchen Algorithmus; diesen komplett nachzuvollziehen ist allerdings nicht zwingend nötig, da er für Anfänger recht komplex sein kann."
   ]
  },
  {
   "cell_type": "code",
   "execution_count": null,
   "id": "e2b3d603-d729-4af4-9582-4b59a090b20b",
   "metadata": {},
   "outputs": [],
   "source": [
    "L = [3, 9, -2, 0, -2, 6, 5, 1]\n",
    "\n",
    "def sort_list(Unsorted):\n",
    "    '''\n",
    "    Eingabe: Unsortiere Liste (Zahlenwerte)\n",
    "    Ausgabe: Sortierte Liste\n",
    "    '''\n",
    "    Sorted = [Unsorted[0]]\n",
    "    for i in range(1, len(Unsorted)):\n",
    "        for j in range(0, len(Sorted)):\n",
    "            if Unsorted[i] <= Sorted[j]:\n",
    "                Sorted.insert(j, Unsorted[i]) \n",
    "                break\n",
    "            if j == len(Sorted) - 1:\n",
    "                Sorted.append(Unsorted[i])\n",
    "    return Sorted\n",
    "\n",
    "print(sort_list(L))"
   ]
  },
  {
   "cell_type": "markdown",
   "id": "9138d56a",
   "metadata": {},
   "source": [
    "Der obige Algorithmus ist eine Variante des **Insertion Sort**. Wie man sicherlich schnell einsehen kann, ist es nicht praktisch, einen solchen Algorithmus jedes Mal selbst zu programmieren, falls der Bedarf besteht, eine Liste zu sortieren. Viele wichtige Funktionen in Python existieren bereits (wie. z.B. ```round()``` oder ```len()```) und müssen nicht selbst geschrieben werden. Kein Einführungskurs der Welt kann die enorme Breite an existierenden Funktionen und sonstigen hilfreichen Inhalten abdecken, darum ist es **absolut notwendig**, dass Sie nach den Funktionen recherchieren, die Sie für Ihr Programm benötigen. Das wird Ihnen eine Menge Zeit und Arbeit sparen. Wie Sie sich denken können existiert bereits auch ein Sortieralgorithmus für Listen:"
   ]
  },
  {
   "cell_type": "code",
   "execution_count": null,
   "id": "ebd2bf56-9d73-439e-954b-48da575497fe",
   "metadata": {},
   "outputs": [],
   "source": [
    "L.sort()\n",
    "print(L)"
   ]
  },
  {
   "cell_type": "markdown",
   "id": "3aa906cf",
   "metadata": {},
   "source": [
    "Viele weitere wichtige Funktionen, wie z.B. Sinus und Kosinus, aber auch Funktionen die die Möglichkeit bieten, Graphen zu zeichnen, befinden sich in sogenannten **Bibliotheken**. Zwei der wichtigsten Bibliotheken, *numpy* und *matplotlib*, werden wir im nächsten Notebook kennenlernen.\n",
    "<a name=\"Chapter8\"></a>"
   ]
  },
  {
   "cell_type": "markdown",
   "id": "6e7a0cdd-2f91-4684-95a8-ba9eaa3fb795",
   "metadata": {},
   "source": [
    "#### Kapitel 8: Abschlussaufgabe\n",
    "<hr>"
   ]
  },
  {
   "cell_type": "markdown",
   "id": "61d97650",
   "metadata": {},
   "source": [
    "<div style= \"color: black;background-color: powderblue ;margin: 10 px auto; padding: 10px; border-radius: 10px\">\n",
    "    <p style=\"font-size:12pt; text-align:center; color:   black; background-color: lightskyblue ;margin: 10 px auto; padding: 10px; border-radius: 10px\" id=\"1\"><b>  Aufgabe 3 (Muss noch geändert werden, zu schwierig) </b>  </p> \n",
    "\n",
    "**a)** Betrachten Sie ein hypothetisches Experiment, indem die dimensionslose Messgröße $X$ mehrfach unter gleichen Bedingungen vermessen wird. Die Ergebnisse sind in der Liste ```data``` gespeichert. Wir wollen nun den Wert von $X$ durch den Mittelwert aller Messungen bestimmen und als Messunsicherheit die Standardabweichung angeben. Diese ist gegeben durch\n",
    "\n",
    "$$ \\sigma (x) = \\sqrt{ \\frac{1}{N} \\sum_{i = 1}^{N} (x_i - \\bar{x})^2 } \\ ,$$\n",
    "\n",
    "wobei $N$ die Anzahl der Datenpunkte angibt. Schreiben Sie zwei Funktionen ```mean(x)``` und ```std(x)```, die den Mittelwert, bzw. die Standardabweichung der Liste ```x``` berechnen. \n",
    "> **Hinweis:** Um die Summe der Werte in einer Liste zu berechnen kann einfach die Funktion ```sum()``` verwendet werden!\n",
    "    \n",
    "**b)** Es sein nun aus physikalischen Überlegungen bekannt, dass $X \\approx 5$ und $X > 0$. Bei einigen Messungen ist ein Messfehler unterlaufen, sodass der gemessene Wert von $X$ an einigen Stellen einen negativen Wert annimmt. Schreiben Sie eine Schleife, die alle Einträge der Liste ```data``` mit $X_i > 0$ in die Liste ```data_filtered``` abspeichert und berechnen Sie anschließend Mittelwert und Standardabweichung der \"bereinigten\" Daten. Geben Sie anschließend auch die Länge der Liste ```data_filtered``` aus und achten Sie auf eine sinnvolle Formatierung der Ausgabe."
   ]
  },
  {
   "cell_type": "code",
   "execution_count": null,
   "id": "4d17a6e9-2273-4a4e-a941-9d2c2bfbc540",
   "metadata": {},
   "outputs": [],
   "source": [
    "# Einlesen der Messdaten in die Liste \"data\"\n",
    "data = []\n",
    "with open(\"data.txt\") as f:\n",
    "    data = f.readlines()\n",
    "    data = [float(item[:-1]) for item in data]\n",
    "\n",
    "# Aufgabenteil a)\n",
    "\n",
    "# Aufgabenteil b)\n",
    "data_filtered = []\n",
    "for item in data:"
   ]
  },
  {
   "cell_type": "markdown",
   "id": "e5e479ca-4e5a-4276-808e-a31712bb8499",
   "metadata": {},
   "source": [
    "<a name=\"Chapter9\"></a>"
   ]
  },
  {
   "cell_type": "markdown",
   "id": "ec9d8fb4",
   "metadata": {},
   "source": [
    "#### Kapitel 9: Lösungen\n",
    "<hr>\n",
    "<a name=\"Loesung1\"></a>"
   ]
  },
  {
   "cell_type": "markdown",
   "id": "1f431793",
   "metadata": {},
   "source": [
    "**Lösung 1:** Zählen mit Schleifen (<a href=\"#Aufgabe1\">Hier</a> geht es zurück zur Aufgabe)"
   ]
  },
  {
   "cell_type": "code",
   "execution_count": null,
   "id": "2a1fabd6-f5f6-4971-9ac4-f03fdc73c2cb",
   "metadata": {},
   "outputs": [],
   "source": [
    "# Teil 1: Lösung mit einer for-Schleife\n",
    "for zahl in range(1, 11):  # range(1, 11) gibt die Zahlen von 1 bis 10 aus\n",
    "    print(zahl)"
   ]
  },
  {
   "cell_type": "code",
   "execution_count": null,
   "id": "9e977dfd",
   "metadata": {},
   "outputs": [],
   "source": [
    "# Teil 2: Lösung mit einer while-Schleife\n",
    "zahl = 1  # Zähler initialisieren\n",
    "while zahl <= 10:  # Solange i kleiner oder gleich 10 ist\n",
    "    print(zahl)\n",
    "    zahl += 1  # kleiner Tipp: zahl += 1 ist eine Abkürzung für zahl = zahl + 1"
   ]
  },
  {
   "cell_type": "markdown",
   "id": "3b0b8906",
   "metadata": {},
   "source": [
    "Beide Schleifen sind hier korrekt, jeder ist die *for*-Schleife in diesem Fall sinnvoller, da sie einfach die genaue Anzahl der Iteration (von 1 bis 10) angibt und automatisch die Zählung übernimmt. Die *while*-Schleife ist sinnvoller, wenn die Anzahl der Iterationen nicht im Voraus bekannt ist und die Schleife so lange läuft, wie eine bestimmte Bedingung erfüllt ist."
   ]
  },
  {
   "cell_type": "markdown",
   "id": "0c3783c0",
   "metadata": {},
   "source": [
    "**Lösung 2:** Planeten (<a href=\"#Aufgabe2\">Hier</a> geht es zurück zur Aufgabe)"
   ]
  },
  {
   "cell_type": "code",
   "execution_count": null,
   "id": "50aa25d3-cad7-4d21-831e-ba2cc8496917",
   "metadata": {},
   "outputs": [],
   "source": [
    "Planeten = [\"Erde\", \"Mond\", \"Mars\", \"Saturn\", \"Jupiter\", \"Kepler-1649c\"] # Liste mit Namen alle Planeten\n",
    "Dichten = [5.51, 3.34, 3.93, 0.69, 1.33, 5.54] # Liste mit allen Dichten [g/cm^3] (in der selben Reihenfolge wie die Liste mit Namen!!)\n",
    "Radien = [6357, 1737, 3386, 58232, 69911, 6738] # Liste mit allen Radien [km]\n",
    "\n",
    "pi = 3.14 # Initialisiere Pi\n",
    "G = 6.6743e-11 # Initialisiere Gravitationskonstante\n",
    "\n",
    "def g(rho, r):\n",
    "    '''\n",
    "    Beachten Sie, dass die gegebenen Größen nicht in SI-Einheiten gegeben sind.\n",
    "    Hier wäre eine geeignete Stelle die Umrechnungen vorzunehmen.\n",
    "    '''\n",
    "    rho = rho * 1000\n",
    "    r = r * 1000\n",
    "    return 4 * pi * G * rho * r / 3\n",
    "\n",
    "for i in range(0, 6): # In welchem Bereich soll sich der Index i bewegen?\n",
    "    g_Planet = round(g(Dichten[i], Radien[i]), 2) # Berechnen Sie die Grav. Beschleunigung für Planet i.\n",
    "    print(\"g(%s) = %s m/s^2\" %(Planeten[i], g_Planet)) # Geben Sie die Ergebnisse in folgendem Format an: g(<Planet>) = <g> m/s^2"
   ]
  }
 ],
 "metadata": {
  "kernelspec": {
   "display_name": "base",
   "language": "python",
   "name": "python3"
  },
  "language_info": {
   "codemirror_mode": {
    "name": "ipython",
    "version": 3
   },
   "file_extension": ".py",
   "mimetype": "text/x-python",
   "name": "python",
   "nbconvert_exporter": "python",
   "pygments_lexer": "ipython3",
   "version": "3.12.7"
  }
 },
 "nbformat": 4,
 "nbformat_minor": 5
}
