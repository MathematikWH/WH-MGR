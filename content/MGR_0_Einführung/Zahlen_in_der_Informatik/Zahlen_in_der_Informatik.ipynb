{
 "cells": [
  {
   "attachments": {},
   "cell_type": "markdown",
   "metadata": {},
   "source": [
    "# Zahlen in der Informatik"
   ]
  },
  {
   "attachments": {},
   "cell_type": "markdown",
   "metadata": {},
   "source": [
    "In diesem Notebook werden die Grundlagen von Zahlen und deren Repräsentation in der Informatik behandelt. Es beginnt mit einer Einführung in das Dezimalsystem, das in der menschlichen Kultur am weitesten verbreitet ist. Der Schwerpunkt liegt hierbei auf dem Verständnis des Positionswertsystems und der Darstellung von Zahlen durch Zehnerpotenzen.\n",
    "\n",
    "Anschließend wird untersucht, wie Computer Zahlen intern repräsentieren. Insbesondere wird der IEEE 754-Standard vorgestellt, der ein weit verbreiteter Ansatz zur Darstellung von Gleitkommazahlen in Computern ist.\n",
    "\n",
    "Zum Abschluss werden einige der Herausforderungen und Probleme bei der Zahlenrepräsentation in Computern diskutiert, insbesondere der Verlust der Genauigkeit bei größeren Zahlen."
   ]
  },
  {
   "attachments": {},
   "cell_type": "markdown",
   "metadata": {},
   "source": [
    "\n",
    "<b> Python Grundlagen: </b>  /<br>\n",
    "<b> Math. Grundlagen: </b>  / <br>\n",
    "\n",
    "<b>Inhaltsverzeichnis:</b> <br>\n",
    "<ul>\n",
    " <li><a href=\"#1\">Das Dezimalsystem</a></li>\n",
    " <li><a href=\"#2\">Wie ein Computer Zahlen darstellt</a></li>\n",
    " <li><a href=\"#3\">IEEE 754</a></li>\n",
    "</ul>\n",
    "</p> "
   ]
  },
  {
   "attachments": {},
   "cell_type": "markdown",
   "metadata": {},
   "source": [
    "## Das Dezimalsystem <a id=\"1\"></a>"
   ]
  },
  {
   "attachments": {},
   "cell_type": "markdown",
   "metadata": {},
   "source": [
    "Das Dezimalsystem, auch bekannt als das Zahlensystem mit der Basis $10$, ist das vorherrschende Zahlensystem in der menschlichen Kultur. Seine Beliebtheit kann hauptsächlich auf unsere zehn Finger zurückgeführt werden, die als natürliche Zählwerkzeuge dienen. In diesem System gibt es zehn Ziffern, nämlich $0, 1, 2, 3, 4, 5, 6, 7, 8$ und $9$.\n",
    "\n",
    "Ein charakteristisches Merkmal des Dezimalsystems ist sein Positionswertsystem. Das bedeutet, dass der Wert einer Ziffer stark von ihrer Position in der Zahl abhängt. Als Illustration hat die Ziffer $5$ in der Zahl $507$ einen anderen Wert als in der Zahl $750$.\n",
    "\n",
    "Ein weiteres wichtiges Konzept im Dezimalsystem ist die Repräsentation von Zahlen durch Potenzen der Basis $10$. Jede Position in einer dezimalen Zahl stellt eine bestimmte Potenz von $10$ dar. Von rechts nach links beginnend mit der Position $0$:\n",
    "\n",
    "- Einheiten (Position 0): $10^0=1$\n",
    "- Zehner (Position 1): $10^1=10$\n",
    "- Hunderter (Position 2): $10^2=100$\n",
    "- Tausender (Position 3): $10^3=1.000$\n",
    "- ... und so weiter.\n",
    "\n",
    "Wenn man zum Beispiel die Zahl $57$ betrachtet, bedeutet das: <br>\n",
    "$ 0×10^2+5×10^1+7×10^0=0+50+7=57$ .\n"
   ]
  },
  {
   "attachments": {},
   "cell_type": "markdown",
   "metadata": {},
   "source": [
    "<div style= \"color: black;background-color: powderblue ;margin: 10 px auto; padding: 10px; border-radius: 10px\">\n",
    "    <p style=\"font-size:12pt; text-align:center; color:   black; background-color: lightskyblue ;margin: 10 px auto; padding: 10px; border-radius: 10px\" id=\"1\"><b>Aufgabe 1</b>  </p> \n",
    "\n",
    "Stellen Sie nun folgende Zahlen als Zehnerpotenzen dar:\n",
    "\n",
    "- $17$\n",
    "- $3467$\n",
    "- $100303$ ."
   ]
  },
  {
   "cell_type": "code",
   "execution_count": 7,
   "metadata": {},
   "outputs": [
    {
     "data": {
      "text/plain": [
       "57"
      ]
     },
     "execution_count": 7,
     "metadata": {},
     "output_type": "execute_result"
    }
   ],
   "source": [
    "# Beispiel\n",
    "0 * 10**2 + 5 * 10*1 + 7 * 10**0"
   ]
  },
  {
   "cell_type": "code",
   "execution_count": null,
   "metadata": {},
   "outputs": [],
   "source": [
    "# Codezelle für Aufgabe 1\n"
   ]
  },
  {
   "attachments": {},
   "cell_type": "markdown",
   "metadata": {},
   "source": [
    "Im Kontext des Dezimalsystems repräsentieren die Zahlen nach dem Komma (in europäischer Notation) oder dem Punkt (in US-Notation) Bruchteile eines Ganzen. Jede Position nach dem Komma repräsentiert eine negative Potenz von 10.\n",
    "\n",
    "Hier ist eine Erklärung anhand des Beispiels $3,14$:\n",
    "\n",
    "- Die Ziffer $3$ steht für $3 \\times 10^0$ oder $3$ Einheiten.\n",
    "- Die Ziffer $1$ nach dem Komma steht für $1 \\times 10^{-1}$ oder ein Zehntel ($0,1$).\n",
    "- Die Ziffer $4$ nach dem Komma steht für $4 \\times 10^{-2}$ oder vier Hundertstel ($0,04$).\n",
    "\n",
    "Zusammengenommen ergibt das $3 + 0,1 + 0,04 = 3,14$.\n",
    "\n",
    "Im Allgemeinen repräsentiert die erste Ziffer nach dem Komma Zehntel, die zweite Ziffer Hundertstel, die dritte Tausendstel und so weiter. Es handelt sich also weiterhin um ein Positionswertsystem, aber die Positionen nach dem Komma repräsentieren negative Potenzen von $10$."
   ]
  },
  {
   "attachments": {},
   "cell_type": "markdown",
   "metadata": {},
   "source": [
    "<div style= \"color: black;background-color: powderblue ;margin: 10 px auto; padding: 10px; border-radius: 10px\">\n",
    "    <p style=\"font-size:12pt; text-align:center; color:   black; background-color: lightskyblue ;margin: 10 px auto; padding: 10px; border-radius: 10px\" id=\"2\"><b>Aufgabe 2</b>  </p> \n",
    "\n",
    "Stellen Sie nun folgende Zahlen als Zehnerpotenz dar:\n",
    "\n",
    "- $1,79$\n",
    "- $122,589$ \n",
    "- $0,7008$ \n",
    ".   "
   ]
  },
  {
   "cell_type": "code",
   "execution_count": null,
   "metadata": {},
   "outputs": [],
   "source": [
    "# Codezelle für Aufgabe 2"
   ]
  },
  {
   "attachments": {},
   "cell_type": "markdown",
   "metadata": {},
   "source": [
    "<a id=\"2\"></a>\n",
    "## Wie ein Computer Zahlen repräsentiert"
   ]
  },
  {
   "attachments": {},
   "cell_type": "markdown",
   "metadata": {},
   "source": [
    "Führen Sie zuerst die Codezelle aus und schauen Sie sich das Ergebnis an."
   ]
  },
  {
   "cell_type": "code",
   "execution_count": 1,
   "metadata": {},
   "outputs": [
    {
     "data": {
      "text/plain": [
       "0.30000000000000004"
      ]
     },
     "execution_count": 1,
     "metadata": {},
     "output_type": "execute_result"
    }
   ],
   "source": [
    "0.1 + 0.2"
   ]
  },
  {
   "attachments": {},
   "cell_type": "markdown",
   "metadata": {},
   "source": [
    "Die Gleichung $0,1 + 0,2 = 0,30000000000000004$ illustriert ein bekanntes Problem bei der Darstellung und Berechnung von Fließkommazahlen in Computern. Dieses Problem tritt aufgrund der Art und Weise auf, wie Zahlen im Computer dargestellt werden.\n",
    "\n",
    "Zuerst wird sich angeschaut wie ganze Zahlen in einem Computer dargestellt werden.\n",
    "\n",
    "#### Vorzeichenlose Ganze Zahlen:\n",
    "\n",
    "Diese Darstellung ist direkt und unkompliziert. Jede Kombination von Bits stellt eine eindeutige Zahl dar.\n",
    "\n",
    "**Bit-Kombinationen**: Bei einer $8$-Bit-Darstellung gibt es $2^8 = 256$ mögliche Kombinationen, die Zahlen von $0$ bis $255$ repräsentieren.\n",
    "\n",
    "**Beispiel**:\n",
    "- Die Binärzahl $01010101$ repräsentiert die Dezimalzahl $85$.\n",
    "- Die Binärzahl $11111111$ repräsentiert die Dezimalzahl $255$.\n",
    "\n",
    "**Berechnung**: Die Umwandlung einer binären Zahl in eine dezimale Zahl erfolgt durch das Summieren der Potenzen von $2$, wobei jede Position im Binärwert einem spezifischen Exponenten entspricht. Bei $01010101$ beispielsweise:\n",
    "\n",
    "$$\n",
    "0 \\times 2^7 + 1 \\times 2^6 + 0 \\times 2^5 + 1 \\times 2^4 + 0 \\times 2^3 + 1 \\times 2^2 + 0 \\times 2^1 + 1 \\times 2^0 = 85\n",
    "$$\n",
    "\n",
    "#### Vorzeichenbehaftete Ganze Zahlen (Zweierkomplement):\n",
    "\n",
    "Das Zweierkomplement ist eine Methode zur Darstellung von negativen Zahlen in binärer Form. Es verwendet das höchstwertige Bit (MSB) als Vorzeichenbit.\n",
    "\n",
    "**Vorzeichenbit**: Bei einer $8$-Bit-Darstellung ist das linkeste Bit das Vorzeichenbit. Wenn es $0$ ist, ist die Zahl positiv. Wenn es $1$ ist, ist die Zahl negativ.\n",
    "\n",
    "**Positive Zahlen**: Positive Zahlen werden genauso dargestellt wie im vorzeichenlosen Format.\n",
    "\n",
    "**Negative Zahlen**: Um die Zweierkomplement-Darstellung einer negativen Zahl zu erhalten, invertieren Sie alle Bits der positiven Darstellung und addieren dann $1$.\n",
    "\n",
    "**Beispiel**: Die Darstellung von $-5$\n",
    "\n",
    "Zuerst die Binärdarstellung von $5$:\n",
    "$$\n",
    "5 = 00000101\n",
    "$$\n",
    "Invertiere alle Bits:\n",
    "$$\n",
    "11111010\n",
    "$$\n",
    "Addiere $1$:\n",
    "$$\n",
    "11111011\n",
    "$$\n",
    "Daher ist $-5$ im $8$-Bit-Zweierkomplement:\n",
    "$$\n",
    "-5 = 11111011\n",
    "$$\n",
    "\n",
    "**Bereich**: Bei einer $8$-Bit-Darstellung können mit dem Zweierkomplement Werte von $-128$ bis $127$ dargestellt werden.\n",
    "\n",
    "**Berechnung**: Positive Zahlen werden genauso berechnet wie im vorzeichenlosen Format. Bei negativen Zahlen im Zweierkomplement wird die Binärzahl erst in ihre positive Form umgewandelt (Bits invertieren und $1$ addieren) und dann als negative Dezimalzahl interpretiert.\n",
    "\n",
    "Das Zweierkomplement ist in Computern weit verbreitet, da es die arithmetischen Operationen (Addition, Subtraktion) vereinfacht, unabhängig davon, ob die Zahlen positiv oder negativ sind."
   ]
  },
  {
   "attachments": {},
   "cell_type": "markdown",
   "metadata": {},
   "source": [
    "<div style= \"color: black;background-color: powderblue ;margin: 10 px auto; padding: 10px; border-radius: 10px\">\n",
    "    <p style=\"font-size:12pt; text-align:center; color:   black; background-color: lightskyblue ;margin: 10 px auto; padding: 10px; border-radius: 10px\" id=\"3\"><b>Aufgabe 3</b>  </p> \n",
    "\n",
    "In dieser Aufgabe sollen Sie Zahlen aus dem Dezimalsystem in das Binärsystem übersetzen. Gehen Sie hierbei von einem $8$-Bit Zweierkomplement aus wie es obig erläutert wurde.   \n",
    "\n",
    "Übersetzen Sie folgende Zahlen:\n",
    "\n",
    "- $3$\n",
    "- $-16$\n",
    "- $100$\n",
    "- $-128$ \n",
    "\n",
    "Zur Überprüfung ihrer Ergebnise steht ihnen der Code in der nächsten Zelle zur Verfügung. Gehen Sie vor wie in dem Beispiel."
   ]
  },
  {
   "cell_type": "code",
   "execution_count": 2,
   "metadata": {},
   "outputs": [],
   "source": [
    "# Führen Sie diese Zelle aus bevor Sie die nächste ausführen\n",
    "# Sie müssen den Code nicht verstehen\n",
    "# ------------------------------------------------------------------------------\n",
    "def binary_to_int(binary_string):\n",
    "    def positive_binary_to_int(binary_string):\n",
    "        return int(binary_string, 2)\n",
    "\n",
    "    def twos_complement(binary_string):\n",
    "        inverted = ''.join(['1' if bit == '0' else '0' for bit in binary_string])\n",
    "        inverted_int = positive_binary_to_int(inverted)\n",
    "        return format(inverted_int + 1, '0' + str(len(binary_string)) + 'b') \n",
    "\n",
    "    if binary_string[0] == '0':\n",
    "        return positive_binary_to_int(binary_string)\n",
    "    \n",
    "    else:\n",
    "        return -positive_binary_to_int(twos_complement(binary_string))"
   ]
  },
  {
   "cell_type": "code",
   "execution_count": 3,
   "metadata": {},
   "outputs": [
    {
     "data": {
      "text/plain": [
       "-5"
      ]
     },
     "execution_count": 3,
     "metadata": {},
     "output_type": "execute_result"
    }
   ],
   "source": [
    "# So können Sie ihre aufgestellten Binärzahl testen\n",
    "# Ersetzen Sie die Zahl zwischen den Anführungszeichen und führen Sie dann die Codezelle aus\n",
    "test_binary = \"11111011\"\n",
    "binary_to_int(test_binary)"
   ]
  },
  {
   "attachments": {},
   "cell_type": "markdown",
   "metadata": {},
   "source": [
    "Nun Zurück zu der Gleichung $0.1 + 0.2$. Hier sind im Gegensatz zu den obigen Beispielen Fließkommazahlen vorhanden. Wie diese im Dezimalsystem aufgestellt werden, wurde bereits zu beginn erläutert. Nun stellt sich die Frage wie dies im Computer geschieht und wie die Diskrepanz im Ergebnis ensteht. Dafür wird sich der IEEE 754-Standard angeschaut."
   ]
  },
  {
   "attachments": {},
   "cell_type": "markdown",
   "metadata": {},
   "source": [
    "<a id=\"3\"></a>\n",
    "### IEEE 754"
   ]
  },
  {
   "attachments": {},
   "cell_type": "markdown",
   "metadata": {},
   "source": [
    "Stellen Sie sich vor, Sie haben eine Taschenlampe, die in der Lage ist, Licht über unglaublich weite oder unglaublich kurze Entfernungen zu werfen. Je nachdem, wie Sie den Fokus einstellen, kann sie sowohl den Mond als auch winzige Details direkt vor Ihnen beleuchten. So funktioniert im Grunde das IEEE 754-Format für Fließkommazahlen: Es kann sowohl sehr große als auch sehr kleine Zahlen mit einer bestimmten Genauigkeit darstellen.\n",
    "\n",
    "\n",
    "**Die Teile:**\n",
    "\n",
    "Jede Fließkommazahl im IEEE 754-Format besteht aus drei Teilen:\n",
    "\n",
    "1. **Vorzeichen**: Sagt aus, ob die Zahl positiv oder negativ ist.\n",
    "2. **Exponent**: Dies ist wie der \"Fokus\" unserer Taschenlampe. Er bestimmt, wie groß oder klein die Zahl ist.\n",
    "3. **Mantisse**: Dies sind die eigentlichen \"Ziffern\" der Zahl.\n",
    "\n",
    "**Wie es funktioniert:**\n",
    "\n",
    "- **Vorzeichen**: Ein einfaches Bit bestimmt das Vorzeichen. Wenn es $0$ ist, ist die Zahl positiv; wenn es $1$ ist, ist die Zahl negativ.\n",
    "  \n",
    "- **Exponent**: Stellen Sie sich den Exponenten als \"Verstärkung\" oder \"Verkleinerung\" vor. Wenn Sie eine große Zahl haben, wird der Exponent den Wert \"vergrößern\", und wenn Sie eine kleine Zahl haben, wird er ihn \"verkleinern\". Es gibt jedoch einen kleinen Trick: Der Exponent hat einen \"Bias\", was bedeutet, dass eine bestimmte Zahl (z.B. $127$ für 32-Bit-Zahlen) hinzugefügt wird, um sicherzustellen, dass sowohl positive als auch negative Exponenten dargestellt werden können.\n",
    "  \n",
    "- **Mantisse**: Dies sind die eigentlichen \"Ziffern\" Ihrer Zahl, aber in binärer Form. Es gibt eine Besonderheit: Es wird angenommen, dass vor den binären \"Ziffern\" immer eine \"1\" steht. Das bedeutet, dass die Zahl $1,01$ in Binärform als $0,01$ gespeichert wird, weil die führende $1$ implizit ist.\n"
   ]
  },
  {
   "attachments": {},
   "cell_type": "markdown",
   "metadata": {},
   "source": [
    "\n",
    "**Beispiel**\n",
    "\n",
    "\n",
    "**Darstellung der Zahl $-5,25$**\n",
    "\n",
    "Die Zahl $-5,25$ soll im IEEE 754-Format dargestellt werden. Erinnern Sie sich an die Taschenlampe? Jetzt werden wird sie verwendet, um diese Zahl zu beleuchten!\n",
    "\n",
    "**Grundlagen:**\n",
    "\n",
    "**Binäre Darstellung von $-5,25$**:  \n",
    "   Zuerst wird die Ganzzahl 5 in Binärform konvertiert, was $101$ ist. Dann wird der Dezimalteil $0,25$ konvertiert, der in Binärform $0,01$ ist. Zusammengenommen ergibt das $101,01$.\n",
    "\n",
    "**Wie es funktioniert:**\n",
    "\n",
    "- **Vorzeichen**: Die Zahl ist negativ, also wird das Vorzeichenbit auf $1$ gesetzt.\n",
    "  \n",
    "- **Exponent**: Für die Zahl $101,01$, wird der \"Binärpunkt\" zwei Stellen nach rechts verschoben, um eine Normalform zu erhalten: $1,0101$. Da der Punkt um zwei Stellen verschoben wurde, ist der Exponent gleich $2$. Jetzt wird der Bias ($127$ für 32-Bit-Zahlen) hinzugefügt: $2 + 127 = 129$. In Binärform ist das $10000001$.\n",
    "  \n",
    "- **Mantisse**: Nach der Normalisierung haben wir die Ziffern $0101$ nach dem Binärpunkt. Die restlichen Bits werden mit Nullen aufgefüllt.\n",
    "\n",
    "Also, die IEEE 754-Darstellung von $-5,25$ ist:  \n",
    "Vorzeichen: $1$  \n",
    "Exponent: $10000001$  \n",
    "Mantisse: $01010000000000000000000$\n",
    "\n",
    "Zusammengesetzt Sieht die Zahl dann so aus: $11000000101010000000000000000000$\n",
    "<div align=\"center\">\n",
    "\n",
    "![image info](ieee2.png)\n",
    "\n",
    "</div>"
   ]
  },
  {
   "attachments": {},
   "cell_type": "markdown",
   "metadata": {},
   "source": [
    "<div style= \"color: black;background-color: powderblue ;margin: 10 px auto; padding: 10px; border-radius: 10px\">\n",
    "    <p style=\"font-size:12pt; text-align:center; color:   black; background-color: lightskyblue ;margin: 10 px auto; padding: 10px; border-radius: 10px\" id=\"4\"><b>Aufgabe 4</b>  </p> \n",
    "\n",
    "In dieser Aufgabe sollen Sie Zahlen aus dem Dezimalsystem in das Binärsystem übersetzen. Gehen Sie hierbei davon aus, dass die Binärzahl dem IEEE 754-Standard entsprechen soll.   \n",
    "\n",
    "Übersetzen Sie folgende Zahlen:\n",
    "\n",
    "- $-6.75$\n",
    "- $-42.875$ \n",
    "\n",
    "Zur Überprüfung ihrer Ergebnise steht ihnen der Code in der nächsten Zelle zur Verfügung. Gehen Sie vor wie in dem Beispiel."
   ]
  },
  {
   "cell_type": "code",
   "execution_count": 5,
   "metadata": {},
   "outputs": [],
   "source": [
    "import struct\n",
    "def float_to_bin(num):\n",
    "    bits, = struct.unpack('!I', struct.pack('!f', num))\n",
    "    return \"{:032b}\".format(bits)"
   ]
  },
  {
   "cell_type": "code",
   "execution_count": 6,
   "metadata": {},
   "outputs": [
    {
     "name": "stdout",
     "output_type": "stream",
     "text": [
      "11000000101010000000000000000000\n"
     ]
    }
   ],
   "source": [
    "number = -5.25\n",
    "print(float_to_bin(number))"
   ]
  },
  {
   "attachments": {},
   "cell_type": "markdown",
   "metadata": {},
   "source": [
    "### Problem mit der Darstellung:\n",
    "\n",
    "Im Binärsystem können einige Dezimalzahlen nicht exakt dargestellt werden. Zum Beispiel:\n",
    "\n",
    "- $0,1_{10}$ (in dezimaler Form) ist als Binärzahl eine wiederkehrende Sequenz: $0,0001100110011001100110011...$ (und so weiter).\n",
    "- $0,2_{10}$ ist in Binärform: $0,001100110011001100110011...$ (und so weiter).\n",
    "\n",
    "Beachten Sie, dass beide Zahlen nicht exakt als endliche binäre Fließkommazahlen dargestellt werden können.\n",
    "\n",
    "#### IEEE 754 und Rundung:\n",
    "\n",
    "Der IEEE 754-Standard für Fließkommazahlen speichert Zahlen mit einer festen Anzahl von Bits (z.B. 32 oder 64 Bits). Aufgrund dieser Beschränkung werden die wiederkehrenden Sequenzen nach einer bestimmten Anzahl von Bits abgeschnitten, was zu Rundungsfehlern führt.\n",
    "\n",
    "Wenn Sie nun $0,1$ und $0,2$ im IEEE 754-Format addieren, addieren Sie tatsächlich zwei gerundete Werte. Da beide Werte nicht exakt sind, ist auch das Ergebnis nicht exakt, was zu dem kleinen zusätzlichen Betrag von $0,00000000000000004$ führt.\n",
    "\n"
   ]
  },
  {
   "attachments": {},
   "cell_type": "markdown",
   "metadata": {},
   "source": [
    "#### Verlust der Genauigkeit bei größeren Zahlen"
   ]
  },
  {
   "attachments": {},
   "cell_type": "markdown",
   "metadata": {},
   "source": [
    "ULP steht für \"Unit in the Last Place\" oder auf Deutsch \"Einheit an der letzten Stelle\". Es bezeichnet den Wert der kleinsten Ziffer in der Mantisse (Signifikand) einer Gleitkommazahl.\n",
    "\n",
    "In einfachen Worten: ULP gibt den Unterschied zwischen einer gegebenen Gleitkommazahl und der nächstgrößeren (oder nächstkleineren) darstellbaren Zahl in diesem Format an. Es ist also der kleinste Unterschied, den man zu einer Gleitkommazahl hinzufügen (oder von ihr subtrahieren) kann, ohne dass sie sich im Gleitkommaformat ändert.\n",
    "\n",
    "Ein einfaches Beispiel zur Veranschaulichung: Betrachten wir eine Dezimalzahl mit zwei Dezimalstellen. Für die Zahl $1,23$ wäre die ULP $0,01$, da dies der Wert der letzten Stelle (in diesem Fall der Hundertstelstelle) ist. Das Hinzufügen oder Subtrahieren von $0,01$ zu/von $1,23$ würde eine Veränderung in der letzten Stelle bewirken.\n",
    "\n",
    "In der Gleitkommarepräsentation, insbesondere im IEEE 754-Standard, hängt der ULP-Wert vom Exponenten der Zahl ab. Für größere Zahlen (mit einem größeren Exponenten) wird der ULP-Wert größer, was bedeutet, dass der kleinste Unterschied, der zu solchen Zahlen hinzugefügt werden kann, größer ist als bei kleineren Zahlen. Dies ist ein Grund, warum die Präzision von Gleitkommazahlen bei größeren Werten abnimmt."
   ]
  },
  {
   "attachments": {},
   "cell_type": "markdown",
   "metadata": {},
   "source": [
    "Die Tabelle enthält einige repräsentative Zahlen und den zugehörigen ULP-Wert für jede dieser Zahlen.\n",
    "\n",
    "<div align=\"center\">\n",
    "\n",
    "|   Zahl   |   ULP-Wert   | |\n",
    "|:--------:|:------------:|:------------:|\n",
    "| $1,0 $     | $1,192 \\times 10^{-7}$ | $0,0000001192$|\n",
    "| $1,5 $     | $1,192 \\times 10^{-7}$ | $0,0000001192$|\n",
    "| $2,0   $   | $2,384 \\times 10^{-7}$ | $0,0000002384$|\n",
    "| $8,0   $   | $9,537 \\times 10^{-7}$ | $0,0000009537$|\n",
    "| $16,0 $    | $1,907 \\times 10^{-6}$ | $0,000001907$|\n",
    "| $32,0  $   | $3,815 \\times 10^{-6}$ | $0,000003815$|\n",
    "| $100,0 $   | $7,629 \\times 10^{-6}$ | $0,000007629$|\n",
    "| $1000,0  $ | $6,104 \\times 10^{-5}$ | $0,00006104$|\n",
    "| $10.000,0 $| $9,766 \\times 10^{-4}$ | $0,0009766$|\n",
    "| $100.000,0$| $7,812 \\times 10^{-3}$ | $0,007812$|\n",
    "| $1.000.000,0$| $6,250 \\times 10^{-2}$ | $0,0625$|\n",
    "\n",
    "</div>\n",
    "\n",
    "Wie Sie sehen können, nimmt der ULP-Wert zu, wenn die Zahl ansteigt. Das bedeutet, dass der Unterschied zwischen einer gegebenen Zahl und der nächstgrößeren Zahl, die im IEEE 754-Format dargestellt werden kann, mit zunehmender Größe der Zahl ebenfalls zunimmt. Dies zeigt die Einschränkungen der Gleitkommagenauigkeit, insbesondere bei sehr großen Zahlen."
   ]
  }
 ],
 "metadata": {
  "kernelspec": {
   "display_name": "py38",
   "language": "python",
   "name": "python3"
  },
  "language_info": {
   "codemirror_mode": {
    "name": "ipython",
    "version": 3
   },
   "file_extension": ".py",
   "mimetype": "text/x-python",
   "name": "python",
   "nbconvert_exporter": "python",
   "pygments_lexer": "ipython3",
   "version": "3.8.16"
  },
  "orig_nbformat": 4
 },
 "nbformat": 4,
 "nbformat_minor": 2
}
