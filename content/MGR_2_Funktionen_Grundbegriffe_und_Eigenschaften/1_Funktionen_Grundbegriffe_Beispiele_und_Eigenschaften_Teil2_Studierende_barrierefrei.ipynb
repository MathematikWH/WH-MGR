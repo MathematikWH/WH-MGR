{
 "cells": [
  {
   "attachments": {},
   "cell_type": "markdown",
   "metadata": {},
   "source": [
    "# Ableitungen, Steigung, Extremstellen, Krümmungsverhalten"
   ]
  },
  {
   "cell_type": "code",
   "execution_count": 8,
   "metadata": {},
   "outputs": [],
   "source": [
    "# Import der benötigten Module\n",
    "import numpy as np\n",
    "import matplotlib.pyplot as plt\n",
    "import math\n",
    "import sympy as sp\n",
    "import micropip\n",
    "await micropip.install(\"ipywidgets\")\n",
    "from ipywidgets import interactive, widgets, interact, IntSlider, Text\n",
    "from IPython.display import display, Latex\n",
    "%matplotlib inline"
   ]
  },
  {
   "attachments": {},
   "cell_type": "markdown",
   "metadata": {},
   "source": [
    "# Steigung"
   ]
  },
  {
   "attachments": {},
   "cell_type": "markdown",
   "metadata": {},
   "source": [
    "Das Steigungsdreieck ist ein geometrisches Hilfsmittel, das oft benutzt wird, um die Steigung einer Geraden in einem Koordinatensystem zu bestimmen.\n",
    "\n",
    "Ein Steigungsdreieck ist ein rechtwinkliges Dreieck, das man zeichnet, indem man von einem Punkt auf der Geraden horizontal (entlang der $x$-Achse) und dann vertikal (entlang der $y$-Achse) zu einem anderen Punkt auf der Geraden geht. Die Hypotenuse des Dreiecks liegt dann auf der Geraden.\n",
    "\n",
    "Die Steigung $m$ der Geraden ist gleich dem Verhältnis der vertikalen Veränderung, zur horizontalen Veränderung.\n",
    "\n",
    "In mathematischen Begriffen, wenn man zwei Punkte auf der Geraden hat, $(x1, y1)$ und $(x2, y2)$, dann ist die Steigung $m$ der Geraden:\n",
    "\n",
    "$m = (y2 - y1) / (x2 - x1)$\n",
    "\n",
    "Dies entspricht dem Verhältnis der Katheten des Steigungsdreiecks. Dabei ist es wichtig zu bedenken, dass die Steigung positiv ist, wenn die Gerade von links nach rechts steigt, und negativ, wenn sie von links nach rechts fällt."
   ]
  },
  {
   "cell_type": "code",
   "execution_count": 9,
   "metadata": {},
   "outputs": [],
   "source": [
    "def f(x):\n",
    "    return x*2 + 2"
   ]
  },
  {
   "cell_type": "code",
   "execution_count": 10,
   "metadata": {},
   "outputs": [
    {
     "data": {
      "application/vnd.jupyter.widget-view+json": {
       "model_id": "243390cbe8cf49ef82ae9c9789ff066f",
       "version_major": 2,
       "version_minor": 0
      },
      "text/plain": [
       "interactive(children=(FloatSlider(value=0.0, description='x_wert', max=1.0, min=-3.0, step=0.25), Output()), _…"
      ]
     },
     "metadata": {},
     "output_type": "display_data"
    }
   ],
   "source": [
    "def plot(x_wert):\n",
    "    \n",
    "    x = np.linspace(-10,10,1000)\n",
    "    y = f(x)\n",
    "    print(\"Steigung am x-Wert \", str(x_wert), \" beträgt: \", 2)\n",
    "    h = 1\n",
    "    x1, y1 = [x_wert, x_wert + h], [f(x_wert), f(x_wert)]\n",
    "    x2, y2 = [x_wert + h, x_wert + h], [f(x_wert), f(x_wert + h)]\n",
    "\n",
    "    plt.plot(x1, y1,x2,y2,color=\"black\")\n",
    "\n",
    "    plt.scatter(x_wert,f(x_wert),color=\"red\")\n",
    "    plt.plot(x, y, lw=2, color=\"lightblue\")\n",
    "    plt.xlim(-4, 4)\n",
    "    plt.ylim(-4, 4)\n",
    "    plt.show()\n",
    "\n",
    "interactive(plot, x_wert = widgets.FloatSlider(min = -3, max = 1, step = 0.25, value = 0))"
   ]
  },
  {
   "attachments": {},
   "cell_type": "markdown",
   "metadata": {},
   "source": [
    "# Ableitungen"
   ]
  },
  {
   "attachments": {},
   "cell_type": "markdown",
   "metadata": {},
   "source": [
    "Wie zuvor gesehen kann man für die Geraden die Steigung einer Funktion durch das Steigungsdreieck bestimmen. Für nicht-linearer Funktionen kommt der Differenzquotient zum Einsatz.\n",
    "\n",
    "Die Definition des Differenzenquotienten für eine Funktion $f$ an der Stelle $x$ mit einer kleinen Änderung $h$ lautet:\n",
    "\n",
    "Differenzenquotient = $\\frac{{f(x + h) - f(x)}}{h}$\n",
    "\n",
    "Dieser Ausdruck beschreibt die durchschnittliche Änderungsrate der Funktion $f$ über das Intervall $[x, x+h]$.\n",
    "\n",
    "In der Praxis wird oft der Grenzwert dieses Quotienten für $h$ gegen $0$ betrachtet, um die instantane Änderungsrate zu bestimmen, das ist die Ableitung der Funktion $f$ an der Stelle $x$:\n",
    "\n",
    "$f'(x) = \\lim_{{h \\to 0}} \\frac{{f(x + h) - f(x)}}{h}$\n",
    "\n",
    "Diese Ableitung ist die Steigung der Tangente an den Graphen der Funktion $f$ im Punkt $x$. Der Differenzenquotient ist also ein zentraler Begriff in der Differentialrechnung."
   ]
  },
  {
   "attachments": {},
   "cell_type": "markdown",
   "metadata": {},
   "source": [
    "<div style= \"color: black;background-color: powderblue ;margin: 10 px auto; padding: 10px; border-radius: 10px\">\n",
    "    <p style=\"font-size:12pt; text-align:center; color:   black; background-color: lightskyblue ;margin: 10 px auto; padding: 10px; border-radius: 10px\" id=\"1\"><b>Aufgabe 1</b>  </p> \n",
    "    \n",
    "1. Implementieren Sie die Funktionen <code>f(x)</code> und <code>f_prime(x)</code> implementieren. Diese sollen eine von ihnen definierte mathematische Funktion darstellen und ihre jeweilige Ableitung. Zusätzlich implementieren Sie die Funktion <code>f_prime_a(f,x,h)</code> auf. Diese repräsentiert den Differenzquotienten.\n",
    "2. Im grösseren Codeblock sollen Sie an der markierten Stelle die Funktion <code>yd(x)</code> vervollständigen. In dieser Funktion sollen Sie eine Tangente aufstellen.\n",
    "3. Was stellen Sie fest wenn das <code>h</code> grösser wird ?\n",
    "4. Stellen Sie mit Sympy für einer beliebigen Funktion die erste und zweite Ableitung auf."
   ]
  },
  {
   "cell_type": "code",
   "execution_count": 11,
   "metadata": {},
   "outputs": [],
   "source": [
    "# ???\n",
    "def f(x):\n"
   ]
  },
  {
   "cell_type": "code",
   "execution_count": 12,
   "metadata": {},
   "outputs": [],
   "source": [
    "# ???\n",
    "def f_prime(x):\n"
   ]
  },
  {
   "cell_type": "code",
   "execution_count": 13,
   "metadata": {},
   "outputs": [],
   "source": [
    "# ???\n",
    "def f_prime_a(f, x, h):\n"
   ]
  },
  {
   "cell_type": "code",
   "execution_count": 14,
   "metadata": {},
   "outputs": [
    {
     "data": {
      "application/vnd.jupyter.widget-view+json": {
       "model_id": "f343e8f97d624be0a1440521909543b5",
       "version_major": 2,
       "version_minor": 0
      },
      "text/plain": [
       "interactive(children=(FloatSlider(value=0.0, description='x_wert', max=3.0, min=-3.0, step=0.25), FloatSlider(…"
      ]
     },
     "metadata": {},
     "output_type": "display_data"
    }
   ],
   "source": [
    "def plot(x_wert,h):\n",
    "\n",
    "    x = np.linspace(-10,10,1000)\n",
    "    y = f(x)\n",
    "    print(\"Steigung am x-Wert \", str(x_wert), \" beträgt: \", f_prime(x_wert))\n",
    "    print(\"Approximation der Steigung am x-Wert \", str(x_wert), \" beträgt: \", f_prime_a(f,x_wert,h))\n",
    "    if x_wert < 0:\n",
    "        x1, y1 = [x_wert, x_wert - h], [f(x_wert), f(x_wert)]\n",
    "        x2, y2 = [x_wert - h, x_wert - h], [f(x_wert), f(x_wert - h)]\n",
    "    else:\n",
    "        x1, y1 = [x_wert, x_wert + h], [f(x_wert), f(x_wert)]\n",
    "        x2, y2 = [x_wert + h, x_wert + h], [f(x_wert), f(x_wert + h)]\n",
    "\n",
    "    plt.plot(x1, y1,x2,y2,color=\"black\")\n",
    "    \n",
    "    # ???\n",
    "    def yd(x):\n",
    "        \n",
    "    \n",
    "    plt.plot(x,yd(x),color=\"black\")\n",
    "\n",
    "    plt.scatter(x_wert,f(x_wert),color=\"red\")\n",
    "    plt.plot(x, y, lw=2, color=\"lightblue\")\n",
    "    ax = plt.subplot()\n",
    "    ############## Ändern Sie hier die max und min Werte der Achse falls der Graph schwirig zu erkennen ist  \n",
    "    plt.xlim(-5, 5)\n",
    "    plt.ylim(-1, 9)\n",
    "    plt.show()\n",
    "\n",
    "interactive(plot,  x_wert = widgets.FloatSlider(min = -3, max = 3, step = 0.25, value = 0),h = widgets.FloatSlider(min = 1E-8, max = 2, step = 0.00125, value = 2))"
   ]
  },
  {
   "attachments": {},
   "cell_type": "markdown",
   "metadata": {},
   "source": [
    "Verwenden Sie die diff-Funktion von Sympy, um die Ableitung zu berechnen. Der erste Parameter ist die Funktion, die abgeleitet werden soll, der zweite Parameter ist die Variable, nach der abgeleitet wird."
   ]
  },
  {
   "cell_type": "code",
   "execution_count": 2,
   "metadata": {},
   "outputs": [
    {
     "data": {
      "text/latex": [
       "$\\displaystyle 3 x^{2} + 5 x - 7$"
      ],
      "text/plain": [
       "3*x**2 + 5*x - 7"
      ]
     },
     "execution_count": 2,
     "metadata": {},
     "output_type": "execute_result"
    }
   ],
   "source": [
    "x = sp.symbols('x')\n",
    "f1 = 3*x**2 + 5*x - 7\n",
    "f1"
   ]
  },
  {
   "cell_type": "code",
   "execution_count": 31,
   "metadata": {},
   "outputs": [
    {
     "data": {
      "text/latex": [
       "$\\displaystyle 6 x + 5$"
      ],
      "text/plain": [
       "6*x + 5"
      ]
     },
     "execution_count": 31,
     "metadata": {},
     "output_type": "execute_result"
    }
   ],
   "source": [
    "df1 = sp.diff(f1, x)\n",
    "df1"
   ]
  },
  {
   "attachments": {},
   "cell_type": "markdown",
   "metadata": {},
   "source": [
    "Sie können auch höhere Ableitungen berechnen, indem Sie einen zusätzlichen Parameter an die diff-Funktion übergeben:"
   ]
  },
  {
   "cell_type": "code",
   "execution_count": 32,
   "metadata": {},
   "outputs": [
    {
     "data": {
      "text/latex": [
       "$\\displaystyle 6$"
      ],
      "text/plain": [
       "6"
      ]
     },
     "execution_count": 32,
     "metadata": {},
     "output_type": "execute_result"
    }
   ],
   "source": [
    "x = sp.symbols('x')\n",
    "df1_2 = sp.diff(f1, x,2)\n",
    "df1_2"
   ]
  },
  {
   "attachments": {},
   "cell_type": "markdown",
   "metadata": {},
   "source": [
    "# Extremstellen"
   ]
  },
  {
   "attachments": {},
   "cell_type": "markdown",
   "metadata": {},
   "source": [
    "Extremstellen sind Punkte auf der Graphenkurve einer Funktion, an denen entweder ein lokales Maximum oder ein lokales Minimum erreicht wird.\n",
    "\n",
    "Ein lokales Maximum ist ein Punkt, an dem die Funktion einen höheren Wert hat als in allen unmittelbar benachbarten Punkten. Ebenso ist ein lokales Minimum ein Punkt, an dem die Funktion einen niedrigeren Wert hat als in allen unmittelbar benachbarten Punkten.\n",
    "\n",
    "Es gibt auch globale Extremstellen, bei denen die Funktion ihr absolutes Maximum oder Minimum erreicht, das heißt, es sind die höchsten oder niedrigsten Punkte auf dem gesamten Graphen der Funktion.\n",
    "\n",
    "Extremstellen können durch verschiedene Methoden bestimmt werden. Eine gebräuchliche Methode ist die Verwendung der Ableitung der Funktion. Extremstellen treten auf, wenn die erste Ableitung der Funktion gleich Null ist und die zweite Ableitung nicht null ist.\n",
    "\n",
    "Wenn $f'(x) = 0$ und $f''(x) < 0$, dann hat die Funktion $f$ an der Stelle $x$ ein lokales Maximum. Wenn $f'(x) = 0$ und $f''(x) > 0$, dann hat die Funktion $f$ an der Stelle x ein lokales Minimum.\n",
    "\n",
    "Eine weitere Methode zur Bestimmung von Extremstellen ist die Untersuchung des Vorzeichenswechsels der ersten Ableitung. Ändert sich das Vorzeichen von $f'(x)$ von positiv auf negativ, liegt ein lokales Maximum vor, wechselt es von negativ auf positiv, handelt es sich um ein lokales Minimum.\n",
    "\n",
    "Beachten Sie jedoch, dass nicht jeder Punkt, an dem die erste Ableitung null ist, eine Extremstelle ist. Dies könnte auch ein Sattelpunkt sein, bei dem die Funktion eine flache Tangente hat, aber keine lokale Extremstelle bildet."
   ]
  },
  {
   "attachments": {},
   "cell_type": "markdown",
   "metadata": {},
   "source": [
    "<div style= \"color: black;background-color: powderblue ;margin: 10 px auto; padding: 10px; border-radius: 10px\">\n",
    "    <p style=\"font-size:12pt; text-align:center; color:   black; background-color: lightskyblue ;margin: 10 px auto; padding: 10px; border-radius: 10px\" id=\"1\"><b>Aufgabe 2</b>  </p> \n",
    "    \n",
    "1. Implementieren Sie die Funktion <code> f_prime_prime(f, x, h=1e-7)</code>. Hier soll der Differenzquotient eines Differenzquotienten berechnet werden. Sie können hier von einem h von $1e-7$ ausgehen.\n",
    "2. Implementieren Sie die Funktion <code>find_stationary_points(f, x_values)</code>. Diese Methode soll die Extremstellen einer Funktion zurückgeben und dise jeweils klassifizieren als Hoch oder Tiefpunkt. Der Parameter <code>x_values</code> repräsentiert das Intervall der Werte die überprüft werden soll bei welchen es sich um eine Extremstelle handeln könnte.\n",
    "3. Berechnen Sie die Extremstellen einer beliebigen Funktion und plotten Sie ihr Ergebnis.\n",
    "4. Definieren Sie wieder die Methode aus 2, aber verwenden Sie dieses mal Sympy. <br>Hilfreiche Methoden aus Sympy:<br> <code>sp.solveset(funktion,abhängige Variable)</code> Mit dieser Methode könne Sie die Nullstellen einer Funktion berechnen.<br>  <code>funktion.subs(abhängige Variable,zu berechnender Punkt)</code> Mit dieser Methode können Sie den Funktionswert an einer Stelle berechnen."
   ]
  },
  {
   "cell_type": "code",
   "execution_count": 15,
   "metadata": {},
   "outputs": [],
   "source": [
    "def f_prime(f, x, h=1e-7):\n",
    "    return (f(x + h) - f(x)) / (h)\n",
    "\n",
    "def f(x):\n",
    "    return x**4\n",
    "\n",
    "# ???\n",
    "def f_prime_prime(f, x, h=1e-7):\n",
    "\n",
    "\n",
    "# ???\n",
    "def find_stationary_points(f, x_values):\n",
    "    h = 0.03\n",
    "    stationary_points = []\n",
    "    classification = []\n",
    "    \n",
    "\n",
    "    return stationary_points, classification"
   ]
  },
  {
   "cell_type": "code",
   "execution_count": null,
   "metadata": {},
   "outputs": [],
   "source": [
    "x_values = x = np.linspace(-10,10,10000) \n",
    "\n",
    "stationary_points,clas = find_stationary_points(f, x_values)\n",
    "\n",
    "plt.figure(figsize=(7.5, 4.5))\n",
    "plt.plot(x_values, f(x_values), label='f(x)')\n",
    "\n",
    "print(stationary_points)\n",
    "print(clas)\n",
    "for point in stationary_points:\n",
    "    plt.scatter(point, f(point), color=\"red\")\n",
    "\n",
    "plt.xlabel('x')\n",
    "plt.ylabel('f(x)')\n",
    "plt.legend()\n",
    "plt.grid(True)\n",
    "plt.ylim(-18,18)\n",
    "plt.xlim(-4,4)\n",
    "plt.show()"
   ]
  },
  {
   "cell_type": "code",
   "execution_count": 17,
   "metadata": {},
   "outputs": [
    {
     "name": "stdout",
     "output_type": "stream",
     "text": [
      "Extremstellen: [(-2.07014294268177, 'tief'), (0.148094842486445, 'hoch'), (1.99704810019533, 'tief')]\n"
     ]
    }
   ],
   "source": [
    "# ???\n",
    "def find_stationary_points(f):\n",
    "    x = sp.symbols('x')\n",
    "    stationary_points_and_curv = []\n",
    "    \n",
    "    \n",
    "\n",
    "    return stationary_points_and_curv\n",
    "\n",
    "x = sp.symbols('x')\n",
    "f = (x + 0.9) * (x - 1.3) * (x - 2.5) * (x + 2.8)\n",
    "\n",
    "print(\"Extremstellen:\", find_stationary_points(f))"
   ]
  },
  {
   "attachments": {},
   "cell_type": "markdown",
   "metadata": {},
   "source": [
    "# Wendestellen"
   ]
  },
  {
   "attachments": {},
   "cell_type": "markdown",
   "metadata": {},
   "source": [
    "Eine Wendestelle oder Umkehrpunkt ist ein Punkt auf dem Graphen einer Funktion, an dem die Funktion ihre Krümmungsrichtung ändert. Man kann sich eine Wendestelle als einen Punkt vorstellen, an dem die Funktion von \"nach unten gekrümmt\" zu \"nach oben gekrümmt\" wechselt, oder umgekehrt.\n",
    "\n",
    "Um eine Wendestelle zu identifizieren, wird die zweite Ableitung der Funktion, auch bekannt als die Funktion der Krümmung, herangezogen. An einer Wendestelle wechselt die zweite Ableitung ihr Vorzeichen.\n",
    "\n",
    "Formal lässt sich sagen, dass für eine Funktion $f(x)$, der Punkt $x = a$ eine Wendestelle ist, wenn:\n",
    "\n",
    "1. Die zweite Ableitung existiert in einer offenen Umgebung um $a$, mit Ausnahme möglicherweise bei $a$ selbst.\n",
    "\n",
    "2. Die zweite Ableitung ändert ihr Vorzeichen bei $a$ (von positiv zu negativ oder von negativ zu positiv).\n",
    "\n",
    "Es ist zu beachten, dass nicht jeder Punkt, an dem die zweite Ableitung null ist, eine Wendestelle ist. Man muss tatsächlich überprüfen, dass ein Vorzeichenwechsel vorliegt. Im Fall, dass $f''(a) = 0$ und kein Vorzeichenwechsel vorliegt, ist der Punkt $a$ kein Wendepunkt.\n",
    "\n",
    "In einigen Fällen, muss man sogar die höheren Ableitungen prüfen, um festzustellen, ob ein Punkt eine Wendestelle ist."
   ]
  },
  {
   "attachments": {},
   "cell_type": "markdown",
   "metadata": {},
   "source": [
    "<div style= \"color: black;background-color: powderblue ;margin: 10 px auto; padding: 10px; border-radius: 10px\">\n",
    "    <p style=\"font-size:12pt; text-align:center; color:   black; background-color: lightskyblue ;margin: 10 px auto; padding: 10px; border-radius: 10px\" id=\"1\"><b>Aufgabe 3</b>  </p> \n",
    "    \n",
    "1. Implementieren Sie die Methode <code>inflection_and_concavity(f)</code>. Hier sollen die Wendestellen und ihr Krümmungsverhalten einer Funktion berechnet werden. Verwenden Sie hierbei Sympy. <br>Hilfreiche Methoden aus Sympy:<br> <code>sp.solveset(funktion,abhängige Variable)</code> Mit dieser Methode könne Sie die Nullstellen einer Funktion berechnen.<br>  <code>funktion.subs(abhängige Variable,zu berechnender Punkt)</code> Mit dieser Methode können Sie den Funktionswert an einer Stelle berechnen.\n",
    "2. Testen Sie ihre Methode und plotten Sie das Ergebnis."
   ]
  },
  {
   "cell_type": "code",
   "execution_count": null,
   "metadata": {},
   "outputs": [],
   "source": [
    "# ???\n",
    "def inflection_and_concavity(f):\n",
    "    x = sp.symbols('x')\n",
    "    inflection_points_and_concavities = []\n",
    "    \n",
    "\n",
    "    return inflection_points_and_concavities\n",
    "\n",
    "x = sp.symbols('x')\n",
    "f = (x + 0.9) * (x - 1.3) * (x - 2.5) * (x + 2.8)\n",
    "\n",
    "inflection_points_and_concavities = inflection_and_concavity(f)\n",
    "\n",
    "print(\"Wendestellen und Krümmung:\", inflection_points_and_concavities)\n",
    "\n",
    "# Plotten Sie auch ihr Ergebnis\n"
   ]
  },
  {
   "attachments": {},
   "cell_type": "markdown",
   "metadata": {},
   "source": [
    "# Grenzwert mit Sympy"
   ]
  },
  {
   "attachments": {},
   "cell_type": "markdown",
   "metadata": {},
   "source": [
    "Der Begriff \"Grenzwert\" beschreibt das Verhalten einer Funktion, wenn sich ihr Argument einem bestimmten Wert nähert. Es gibt verschiedene Arten von Grenzwerten, darunter:\n",
    "\n",
    "1. Grenzwerte an einer Stelle: Man möchte herausfinden, welchen Wert $ f(x) $ annimmt oder sich nähert, wenn $ x $ gegen eine bestimmte Zahl strebt. Symbolisch wird dies oft so ausgedrückt:\n",
    "$ \\lim_{{x \\to a}} f(x) = L $\n",
    "Das bedeutet, dass $ f(x) $ gegen den Wert $L $ strebt, wenn $ x $ sich dem Wert $a $ nähert.\n",
    "\n",
    "1. Grenzwerte im Unendlichen: Man möchte herausfinden, welchen Wert $ f(x) $ annimmt oder sich nähert, wenn $ x $ gegen Unendlich (oder minus Unendlich) strebt. Zum Beispiel:\n",
    "$ \\lim_{{x \\to \\infty}} f(x) = L $\n",
    "\n"
   ]
  },
  {
   "attachments": {},
   "cell_type": "markdown",
   "metadata": {},
   "source": [
    "Eine kurze Einführung in die Berechnung von Grenzwerten mit Sympy:"
   ]
  },
  {
   "cell_type": "code",
   "execution_count": 3,
   "metadata": {},
   "outputs": [
    {
     "name": "stdout",
     "output_type": "stream",
     "text": [
      "Der Grenzwert von f(x) = 1/x, wenn x gegen 0 von rechts strebt, ist: oo\n",
      "Der Grenzwert von f(x) = 1/x, wenn x gegen 0 von links strebt, ist: -oo\n",
      "Der Grenzwert von f(x) = 1/x, wenn x gegen Unendlich strebt, ist: 0\n",
      "Der Grenzwert von f(x) = 1/x, wenn x gegen 2 strebt, ist: 1/2\n"
     ]
    }
   ],
   "source": [
    "from sympy import symbols, limit, oo  # oo steht für Unendlich in SymPy\n",
    "\n",
    "# Definieren Sie die Variablen\n",
    "x = symbols('x')\n",
    "\n",
    "# Definieren Sie die Funktion\n",
    "f = 1/x\n",
    "\n",
    "# Grenzwert von f, wenn x gegen 0 von der rechten Seite strebt\n",
    "limit_value_right = limit(f, x, 0, dir='+')\n",
    "print(f\"Der Grenzwert von f(x) = 1/x, wenn x gegen 0 von rechts strebt, ist: {limit_value_right}\")\n",
    "\n",
    "# Grenzwert von f, wenn x gegen 0 von der linken Seite strebt\n",
    "limit_value_left = limit(f, x, 0, dir='-')\n",
    "print(f\"Der Grenzwert von f(x) = 1/x, wenn x gegen 0 von links strebt, ist: {limit_value_left}\")\n",
    "\n",
    "# Grenzwert von f, wenn x gegen Unendlich strebt\n",
    "limit_value_infinity = limit(f, x, oo)\n",
    "print(f\"Der Grenzwert von f(x) = 1/x, wenn x gegen Unendlich strebt, ist: {limit_value_infinity}\")\n",
    "\n",
    "# Grenzwert von f, wenn x gegen 2 strebt\n",
    "lim_at_2 = limit(f, x, 2)\n",
    "print(f\"Der Grenzwert von f(x) = 1/x, wenn x gegen 2 strebt, ist: {lim_at_2}\")"
   ]
  },
  {
   "attachments": {},
   "cell_type": "markdown",
   "metadata": {},
   "source": [
    "<div style= \"color: black;background-color: powderblue ;margin: 10 px auto; padding: 10px; border-radius: 10px\">\n",
    "    <p style=\"font-size:12pt; text-align:center; color:   black; background-color: lightskyblue ;margin: 10 px auto; padding: 10px; border-radius: 10px\" id=\"1\"><b>Aufgabe 4</b>  </p>\n",
    "\n",
    "In dieser Aufgabe sollen Sie die Grenzwerte für gewisse Funktionen bestimmen. Dies sollen Sie mit Sympy tun und die Ergebnisse per Hand validieren.\n",
    "\n",
    "1. Bestimmen Sie den Grenzwert für die Funktion $ \\lim_{{x \\to 0}} f(x) = x^2 - 3x + 2$.\n",
    "\n",
    "2. Bestimmen Sie den Grenzwert für die Funktion $ \\lim_{{x \\to 0}} f(x) = \\frac{x^2 +4 }{2x}$.\n",
    "\n",
    "3. Bestimmen Sie den Grenzwert für die Funktion $ \\lim_{{x \\to 0}}f(x) = \\frac{x}{|x|}$.\n",
    "4. Bestimmen Sie den Grenzwert für die Funktion $ \\lim_{{x \\to 0^-}} f(x) = \\sqrt{x}$."
   ]
  },
  {
   "cell_type": "code",
   "execution_count": null,
   "metadata": {},
   "outputs": [],
   "source": [
    "# Teilaufgabe 1\n",
    "def f_poly(x):\n",
    "    return  x**2 - 3*x + 7\n"
   ]
  },
  {
   "cell_type": "code",
   "execution_count": null,
   "metadata": {},
   "outputs": [],
   "source": [
    "def f_frac(x):\n",
    "    return (x**2 + 4)/(2*x)\n"
   ]
  },
  {
   "cell_type": "code",
   "execution_count": null,
   "metadata": {},
   "outputs": [],
   "source": [
    "# Teilaufgabe 3\n",
    "def f_abs(x):\n",
    "    return (x/abs(x))\n"
   ]
  },
  {
   "cell_type": "code",
   "execution_count": null,
   "metadata": {},
   "outputs": [],
   "source": [
    "# Teilaufgabe 4  \n",
    "def f_sqrt(x):\n",
    "    return np.sqrt(x)\n"
   ]
  }
 ],
 "metadata": {
  "kernelspec": {
   "display_name": "py38",
   "language": "python",
   "name": "python3"
  },
  "language_info": {
   "codemirror_mode": {
    "name": "ipython",
    "version": 3
   },
   "file_extension": ".py",
   "mimetype": "text/x-python",
   "name": "python",
   "nbconvert_exporter": "python",
   "pygments_lexer": "ipython3",
   "version": "3.8.16"
  },
  "orig_nbformat": 4
 },
 "nbformat": 4,
 "nbformat_minor": 2
}
